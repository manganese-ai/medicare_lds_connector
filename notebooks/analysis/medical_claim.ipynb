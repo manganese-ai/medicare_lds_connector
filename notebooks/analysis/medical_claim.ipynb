{
 "cells": [
  {
   "cell_type": "code",
   "execution_count": 35,
   "metadata": {},
   "outputs": [],
   "source": [
    "import sys\n",
    "import json\n",
    "import pickle\n",
    "import snowflake.connector\n",
    "from snowflake.connector.pandas_tools import write_pandas, pd_writer\n",
    "import getpass as gt\n",
    "import pandas as pd\n",
    "import numpy as np\n",
    "import warnings\n",
    "\n",
    "from snowflake_conn import *\n",
    "\n",
    "pd.set_option('display.max_columns', None)\n",
    "pd.set_option('display.max_rows', None)\n",
    "warnings.simplefilter(\"ignore\")"
   ]
  },
  {
   "cell_type": "code",
   "execution_count": 37,
   "metadata": {},
   "outputs": [],
   "source": [
    "# lds = pd.read_csv(\"data/simplified_lds.csv\")\n",
    "# lds.groupby(['Data','File']).size()"
   ]
  },
  {
   "cell_type": "code",
   "execution_count": null,
   "metadata": {},
   "outputs": [],
   "source": [
    "fd = {\n",
    "    'carrier_base_claim':['Carrier','Base Claim'],\n",
    "    'carrier_claim_line':['Carrier','Claim Line'],\n",
    "    'dme_base_claim':['DME','Base Claim'],\n",
    "    'dme_claim_line':['DME','Claim Line'],\n",
    "    'hha_base_claim':['Home Health','Base Claim'],\n",
    "    'hha_revenue_center':['Home Health','Revenue Center'],\n",
    "    'hospice_base_claim':['Hospice','Base Claim'],\n",
    "    'hospice_revenue_center':['Hospice','Revenue Center'],\n",
    "    'inpatient_base_claim':['Inpatient','Base Claim'],\n",
    "    'inpatient_revenue_center':['Inpatient','Revenue Center'],\n",
    "    'master_beneficiary_summary':['Beneficiary','Demo'],\n",
    "    'outpatient_base_claim':['Outpatient','Base Claim'],\n",
    "    'outpatient_revenue_center':['Outpatient','Revenue Center'],\n",
    "    'snf_base_claim':['SNF','Base Claim'],\n",
    "    'snf_revenue_center':['SNF','Revenue Center'],\n",
    "}"
   ]
  },
  {
   "cell_type": "code",
   "execution_count": 3,
   "metadata": {},
   "outputs": [],
   "source": [
    "def change_dtypes(base_name, fd, df, lds):\n",
    "    data_type, file_type = fd[base_name][0], fd[base_name][1]\n",
    "    subset = lds.loc[(lds.Data == data_type) & (lds.File == file_type),:]\n",
    "\n",
    "    d = dict(zip(subset.Name, subset.Type))\n",
    "\n",
    "    for c in df.columns.tolist():\n",
    "        orig_type = df[c].dtype\n",
    "        lds_type = d[c]\n",
    "\n",
    "        if lds_type == 'CHAR':\n",
    "            df[c] = df[c].astype(str).replace({'nan':None})\n",
    "        elif lds_type == 'DATE':\n",
    "            df[c] = pd.to_datetime(df[c],dayfirst=True,format='mixed').astype(str).str.replace('-','').replace({'NaT':None})\n",
    "        else:\n",
    "            df[c] = df[c].astype(float).replace({'nan':None})\n",
    "\n",
    "        new_type = df[c].dtype\n",
    "    return df\n",
    "\n",
    "def check_dfs(sql, base_name):\n",
    "    df = read_sql(sql)\n",
    "    tmp = pd.read_csv(f\"data/{base_name}.csv\",low_memory=False)\n",
    "    tmp = change_dtypes(base_name, fd, tmp, lds)\n",
    "    tmp.columns = [c.lower() for c in tmp.columns]\n",
    "    print(df.shape, tmp.shape)\n",
    "\n",
    "    # check if the two df are the same\n",
    "    for c in df.columns:\n",
    "        if (df[c].values != tmp[c].values).sum() > 0:\n",
    "            idx1 = df.loc[df[c].notna(),[c]].values\n",
    "            idx2 = tmp.loc[tmp[c].notna(),[c]].values\n",
    "            if (idx1 != idx2).sum() > 0:\n",
    "                print(c, '-- real errors')\n",
    "            else:\n",
    "                print(c, \"-- nan errors only\")"
   ]
  },
  {
   "cell_type": "code",
   "execution_count": 4,
   "metadata": {},
   "outputs": [],
   "source": [
    "conn = get_connection()"
   ]
  },
  {
   "cell_type": "code",
   "execution_count": null,
   "metadata": {},
   "outputs": [],
   "source": [
    "# # medical claim\n",
    "# sql = '''SELECT COUNT(DISTINCT(patient_id)), COUNT(DISTINCT(claim_id)), COUNT(DISTINCT(claim_start_date)) FROM SANDBOX_FFS.TUVA_CLAIMS.MEDICAL_CLAIM'''\n",
    "# print(read_sql(sql))\n",
    "\n",
    "# sql = '''SELECT * FROM SANDBOX_FFS.TUVA_CLAIMS.MEDICAL_CLAIM LIMIT 1000;'''\n",
    "# tmp = read_sql(sql)\n",
    "# tmp.head(1)\n",
    "\n",
    "# # no dates..."
   ]
  },
  {
   "cell_type": "markdown",
   "metadata": {},
   "source": [
    "### Carrier\n",
    "https://github.com/manganese-ai/medicare_lds_connector/blob/main/models/intermediate/carrier_claim.sql"
   ]
  },
  {
   "cell_type": "markdown",
   "metadata": {},
   "source": [
    "Check if dfs are equivalent (see if there's an error reading them in)"
   ]
  },
  {
   "cell_type": "code",
   "execution_count": 32,
   "metadata": {},
   "outputs": [
    {
     "name": "stdout",
     "output_type": "stream",
     "text": [
      "(1121004, 19)\n"
     ]
    },
    {
     "data": {
      "text/html": [
       "<div>\n",
       "<style scoped>\n",
       "    .dataframe tbody tr th:only-of-type {\n",
       "        vertical-align: middle;\n",
       "    }\n",
       "\n",
       "    .dataframe tbody tr th {\n",
       "        vertical-align: top;\n",
       "    }\n",
       "\n",
       "    .dataframe thead th {\n",
       "        text-align: right;\n",
       "    }\n",
       "</style>\n",
       "<table border=\"1\" class=\"dataframe\">\n",
       "  <thead>\n",
       "    <tr style=\"text-align: right;\">\n",
       "      <th></th>\n",
       "      <th>clm_thru_dt</th>\n",
       "      <th>icd_dgns_cd4</th>\n",
       "      <th>icd_dgns_cd8</th>\n",
       "      <th>icd_dgns_cd6</th>\n",
       "      <th>icd_dgns_cd7</th>\n",
       "      <th>icd_dgns_cd10</th>\n",
       "      <th>desy_sort_key</th>\n",
       "      <th>nch_clm_type_cd</th>\n",
       "      <th>icd_dgns_cd11</th>\n",
       "      <th>carr_clm_pmt_dnl_cd</th>\n",
       "      <th>icd_dgns_cd2</th>\n",
       "      <th>icd_dgns_cd5</th>\n",
       "      <th>prncpal_dgns_cd</th>\n",
       "      <th>icd_dgns_cd9</th>\n",
       "      <th>carr_clm_blg_npi_num</th>\n",
       "      <th>prncpal_dgns_vrsn_cd</th>\n",
       "      <th>icd_dgns_cd12</th>\n",
       "      <th>icd_dgns_cd3</th>\n",
       "      <th>claim_no</th>\n",
       "    </tr>\n",
       "  </thead>\n",
       "  <tbody>\n",
       "    <tr>\n",
       "      <th>0</th>\n",
       "      <td>20150928</td>\n",
       "      <td>E119</td>\n",
       "      <td>E848</td>\n",
       "      <td>E089</td>\n",
       "      <td>B965</td>\n",
       "      <td>None</td>\n",
       "      <td>-1.000001e+13</td>\n",
       "      <td>71</td>\n",
       "      <td>None</td>\n",
       "      <td>1</td>\n",
       "      <td>E781</td>\n",
       "      <td>D649</td>\n",
       "      <td>R4689</td>\n",
       "      <td>E849</td>\n",
       "      <td>1063654341</td>\n",
       "      <td>0</td>\n",
       "      <td>None</td>\n",
       "      <td>J329</td>\n",
       "      <td>-1.000093e+13</td>\n",
       "    </tr>\n",
       "  </tbody>\n",
       "</table>\n",
       "</div>"
      ],
      "text/plain": [
       "  clm_thru_dt icd_dgns_cd4 icd_dgns_cd8 icd_dgns_cd6 icd_dgns_cd7  \\\n",
       "0    20150928         E119         E848         E089         B965   \n",
       "\n",
       "  icd_dgns_cd10  desy_sort_key nch_clm_type_cd icd_dgns_cd11  \\\n",
       "0          None  -1.000001e+13              71          None   \n",
       "\n",
       "  carr_clm_pmt_dnl_cd icd_dgns_cd2 icd_dgns_cd5 prncpal_dgns_cd icd_dgns_cd9  \\\n",
       "0                   1         E781         D649           R4689         E849   \n",
       "\n",
       "  carr_clm_blg_npi_num prncpal_dgns_vrsn_cd icd_dgns_cd12 icd_dgns_cd3  \\\n",
       "0           1063654341                    0          None         J329   \n",
       "\n",
       "       claim_no  \n",
       "0 -1.000093e+13  "
      ]
     },
     "execution_count": 32,
     "metadata": {},
     "output_type": "execute_result"
    }
   ],
   "source": [
    "# base claim\n",
    "sql = '''SELECT * FROM SANDBOX_FFS.LDS.CARRIER_BASE_CLAIM;'''\n",
    "b = read_sql(sql)\n",
    "# base_name = 'carrier_base_claim'\n",
    "# check_dfs(sql, base_name)\n",
    "print(b.shape)\n",
    "b.head(1)"
   ]
  },
  {
   "cell_type": "code",
   "execution_count": 33,
   "metadata": {},
   "outputs": [
    {
     "name": "stdout",
     "output_type": "stream",
     "text": [
      "(1121004, 13)\n"
     ]
    },
    {
     "data": {
      "text/html": [
       "<div>\n",
       "<style scoped>\n",
       "    .dataframe tbody tr th:only-of-type {\n",
       "        vertical-align: middle;\n",
       "    }\n",
       "\n",
       "    .dataframe tbody tr th {\n",
       "        vertical-align: top;\n",
       "    }\n",
       "\n",
       "    .dataframe thead th {\n",
       "        text-align: right;\n",
       "    }\n",
       "</style>\n",
       "<table border=\"1\" class=\"dataframe\">\n",
       "  <thead>\n",
       "    <tr style=\"text-align: right;\">\n",
       "      <th></th>\n",
       "      <th>clm_thru_dt</th>\n",
       "      <th>line_srvc_cnt</th>\n",
       "      <th>hcpcs_1st_mdfr_cd</th>\n",
       "      <th>prf_physn_npi</th>\n",
       "      <th>hcpcs_2nd_mdfr_cd</th>\n",
       "      <th>line_place_of_srvc_cd</th>\n",
       "      <th>line_nch_pmt_amt</th>\n",
       "      <th>line_num</th>\n",
       "      <th>line_bene_prmry_pyr_pd_amt</th>\n",
       "      <th>line_bene_ptb_ddctbl_amt</th>\n",
       "      <th>hcpcs_cd</th>\n",
       "      <th>line_alowd_chrg_amt</th>\n",
       "      <th>claim_no</th>\n",
       "    </tr>\n",
       "  </thead>\n",
       "  <tbody>\n",
       "    <tr>\n",
       "      <th>0</th>\n",
       "      <td>20150928</td>\n",
       "      <td>10.0</td>\n",
       "      <td>None</td>\n",
       "      <td>9999971093</td>\n",
       "      <td>None</td>\n",
       "      <td>11</td>\n",
       "      <td>91.04</td>\n",
       "      <td>1.0</td>\n",
       "      <td>0.0</td>\n",
       "      <td>0.0</td>\n",
       "      <td>None</td>\n",
       "      <td>113.8</td>\n",
       "      <td>-1.000093e+13</td>\n",
       "    </tr>\n",
       "  </tbody>\n",
       "</table>\n",
       "</div>"
      ],
      "text/plain": [
       "  clm_thru_dt  line_srvc_cnt hcpcs_1st_mdfr_cd prf_physn_npi  \\\n",
       "0    20150928           10.0              None    9999971093   \n",
       "\n",
       "  hcpcs_2nd_mdfr_cd line_place_of_srvc_cd  line_nch_pmt_amt  line_num  \\\n",
       "0              None                    11             91.04       1.0   \n",
       "\n",
       "   line_bene_prmry_pyr_pd_amt  line_bene_ptb_ddctbl_amt hcpcs_cd  \\\n",
       "0                         0.0                       0.0     None   \n",
       "\n",
       "   line_alowd_chrg_amt      claim_no  \n",
       "0                113.8 -1.000093e+13  "
      ]
     },
     "execution_count": 33,
     "metadata": {},
     "output_type": "execute_result"
    }
   ],
   "source": [
    "# claim line\n",
    "sql = '''SELECT * FROM SANDBOX_FFS.LDS.CARRIER_CLAIM_LINE;'''\n",
    "# base_name = 'carrier_claim_line'\n",
    "# check_dfs(sql, base_name)\n",
    "\n",
    "l = read_sql(sql)\n",
    "print(l.shape)\n",
    "l.head(1)"
   ]
  },
  {
   "cell_type": "code",
   "execution_count": 34,
   "metadata": {},
   "outputs": [
    {
     "data": {
      "text/plain": [
       "array(['11', '20', '34', '22', '12', '2', '31'], dtype=object)"
      ]
     },
     "execution_count": 34,
     "metadata": {},
     "output_type": "execute_result"
    }
   ],
   "source": [
    "l['line_place_of_srvc_cd'].unique()"
   ]
  },
  {
   "cell_type": "markdown",
   "metadata": {},
   "source": [
    "Tuva"
   ]
  },
  {
   "cell_type": "code",
   "execution_count": 31,
   "metadata": {},
   "outputs": [],
   "source": [
    "# # tuva\n",
    "# sql = '''SELECT COUNT(DISTINCT(patient_id)), COUNT(DISTINCT(claim_id)), COUNT(DISTINCT(claim_start_date)) FROM SANDBOX_FFS.TUVA_CLAIMS.CARRIER_CLAIM'''\n",
    "# print(read_sql(sql))\n",
    "\n",
    "# sql = '''SELECT * FROM SANDBOX_FFS.TUVA_CLAIMS.CARRIER_CLAIM LIMIT 1;'''\n",
    "# carrier = read_sql(sql)\n",
    "# print(carrier.shape)\n",
    "# carrier.head(1)"
   ]
  },
  {
   "cell_type": "markdown",
   "metadata": {},
   "source": [
    "### DME\n",
    "https://github.com/manganese-ai/medicare_lds_connector/blob/main/models/intermediate/dme_claim.sql"
   ]
  },
  {
   "cell_type": "code",
   "execution_count": 8,
   "metadata": {},
   "outputs": [],
   "source": [
    "# base claim\n",
    "sql = '''SELECT * FROM SANDBOX_FFS.LDS.DME_BASE_CLAIM;'''\n",
    "base_name = 'dme_base_claim'\n",
    "b = read_sql(sql)\n",
    "\n",
    "# check_dfs(sql, base_name)\n",
    "\n",
    "# equivalent"
   ]
  },
  {
   "cell_type": "code",
   "execution_count": 23,
   "metadata": {},
   "outputs": [],
   "source": [
    "# claim line\n",
    "sql = '''SELECT * FROM SANDBOX_FFS.LDS.DME_CLAIM_LINE;'''\n",
    "base_name = 'dme_claim_line'\n",
    "l = read_sql(sql)\n",
    "\n",
    "# check_dfs(sql, base_name)\n",
    "\n",
    "# equivalent"
   ]
  },
  {
   "cell_type": "code",
   "execution_count": 25,
   "metadata": {},
   "outputs": [],
   "source": [
    "# # tuva\n",
    "# sql = '''SELECT COUNT(DISTINCT(patient_id)), COUNT(DISTINCT(claim_id)), COUNT(DISTINCT(claim_end_date)) FROM SANDBOX_FFS.TUVA_CLAIMS.DME_CLAIM'''\n",
    "# print(read_sql(sql))\n",
    "\n",
    "# sql = '''SELECT * FROM SANDBOX_FFS.TUVA_CLAIMS.DME_CLAIM;'''\n",
    "# dme_tuva = read_sql(sql)\n",
    "# print(dme_tuva.shape)\n",
    "# dme_tuva.head(1)"
   ]
  },
  {
   "cell_type": "markdown",
   "metadata": {},
   "source": [
    "Process"
   ]
  },
  {
   "cell_type": "code",
   "execution_count": 26,
   "metadata": {},
   "outputs": [
    {
     "data": {
      "text/plain": [
       "(1121004, 19)"
      ]
     },
     "execution_count": 26,
     "metadata": {},
     "output_type": "execute_result"
    }
   ],
   "source": [
    "# first filter\n",
    "b = b.loc[~(b['carr_clm_pmt_dnl_cd'] == '0'),:]\n",
    "b.shape"
   ]
  },
  {
   "cell_type": "code",
   "execution_count": 27,
   "metadata": {},
   "outputs": [
    {
     "data": {
      "text/plain": [
       "(1121004, 36)"
      ]
     },
     "execution_count": 27,
     "metadata": {},
     "output_type": "execute_result"
    }
   ],
   "source": [
    "### base claim ###\n",
    "# claim id: tuva has this format -- not sure why: -1000093003792725-M82\n",
    "b['clm_thru_dt_year'] = b['clm_thru_dt'].apply(lambda x: str(x)[:4])\n",
    "b['claim_id'] = b['claim_no'].astype(int).astype(str) + b['clm_thru_dt_year'].astype(str) + b['nch_clm_type_cd'].astype(str)\n",
    "\n",
    "b['patient_id'] = b['desy_sort_key'].astype(str)\n",
    "b['member_id'] = b['patient_id']\n",
    "b['claim_end_date'] = pd.to_datetime(b['clm_thru_dt'])\n",
    "\n",
    "b['diagnosis_code_1'] = b['prncpal_dgns_cd'].astype(str)\n",
    "b['diagnosis_code_2'] = b['icd_dgns_cd2'].astype(str)\n",
    "b['diagnosis_code_3'] = b['icd_dgns_cd3'].astype(str)\n",
    "b['diagnosis_code_4'] = b['icd_dgns_cd4'].astype(str)\n",
    "b['diagnosis_code_5'] = b['icd_dgns_cd5'].astype(str)\n",
    "b['diagnosis_code_6'] = b['icd_dgns_cd6'].astype(str)\n",
    "b['diagnosis_code_7'] = b['icd_dgns_cd7'].astype(str)\n",
    "b['diagnosis_code_8'] = b['icd_dgns_cd8'].astype(str)\n",
    "b['diagnosis_code_9'] = b['icd_dgns_cd9'].astype(str)\n",
    "b['diagnosis_code_10'] = b['icd_dgns_cd10'].astype(str)\n",
    "b['diagnosis_code_11'] = b['icd_dgns_cd11'].astype(str)\n",
    "b['diagnosis_code_12'] = b['icd_dgns_cd12'].astype(str)\n",
    "\n",
    "b.shape"
   ]
  },
  {
   "cell_type": "code",
   "execution_count": 29,
   "metadata": {},
   "outputs": [
    {
     "data": {
      "text/plain": [
       "(103828, 24)"
      ]
     },
     "execution_count": 29,
     "metadata": {},
     "output_type": "execute_result"
    }
   ],
   "source": [
    "### claim line ###\n",
    "l['claim_line_end_date'] = pd.to_datetime(l['clm_thru_dt'])\n",
    "\n",
    "l['place_of_service_code'] = l['line_place_of_srvc_cd'].astype(str)\n",
    "l['hcpcs_code'] = l['hcpcs_cd'].astype(str)\n",
    "l['hcpcs_modifier_1'] = l['hcpcs_1st_mdfr_cd'].astype(str)\n",
    "l['hcpcs_modifier_2'] = l['hcpcs_2nd_mdfr_cd'].astype(str)\n",
    "l['billing_npi'] = l['prvdr_npi'].astype(str)\n",
    "\n",
    "l['claim_line_number'] = l['clm_line_num'].astype(int)\n",
    "l['service_unit_quantity'] = l['line_srvc_cnt'].apply(lambda x: int(str(x)[0]))\n",
    "l['paid_amount'] = l['line_nch_pmt_amt'].astype(float)\n",
    "l['total_cost_amount'] = l['line_nch_pmt_amt'].astype(float) + l['line_bene_ptb_ddctbl_amt'].astype(float) + l['line_bene_prmry_pyr_pd_amt'].astype(float)\n",
    "l['charge_amount'] = l['line_alowd_chrg_amt'].astype(float)\n",
    "l.shape"
   ]
  },
  {
   "cell_type": "code",
   "execution_count": 30,
   "metadata": {},
   "outputs": [
    {
     "data": {
      "text/plain": [
       "array(['31', '11', '34', '22', '23', '21', '20', '12', '2'], dtype=object)"
      ]
     },
     "execution_count": 30,
     "metadata": {},
     "output_type": "execute_result"
    }
   ],
   "source": [
    "l.place_of_service_code.unique()"
   ]
  },
  {
   "cell_type": "code",
   "execution_count": null,
   "metadata": {},
   "outputs": [],
   "source": [
    "### merge ###\n",
    "dme = b.merge(l, on = ['claim_no'], how = 'inner')\n",
    "\n",
    "dme['claim_type'] = 'professional'\n",
    "dme['diagnosis_code_type'] = 'icd-10-cm'\n",
    "dme['data_source'] = 'medicare_lds'\n",
    "dme.shape"
   ]
  },
  {
   "cell_type": "code",
   "execution_count": null,
   "metadata": {},
   "outputs": [],
   "source": [
    "### add nulls ###\n",
    "for c in [\n",
    "    'claim_start_date','admission_date','discharge_date','paid_date','claim_line_start_date',\n",
    "     'procedure_date_1', 'procedure_date_2', 'procedure_date_3', 'procedure_date_4', 'procedure_date_5', \n",
    "     'procedure_date_6', 'procedure_date_7', 'procedure_date_8', 'procedure_date_9', 'procedure_date_10', \n",
    "     'procedure_date_11', 'procedure_date_12', 'procedure_date_13', 'procedure_date_14', 'procedure_date_15', \n",
    "     'procedure_date_16', 'procedure_date_17', 'procedure_date_18', 'procedure_date_19', 'procedure_date_20', \n",
    "     'procedure_date_21', 'procedure_date_22', 'procedure_date_23', 'procedure_date_24', 'procedure_date_25'\n",
    "]:\n",
    "    dme[c] = pd.to_datetime(None)\n",
    "\n",
    "for c in [\n",
    "    'admit_source_code','admit_type_code','discharge_disposition_code',\n",
    "    'bill_type_code','ms_drg_code','apr_drg_code','revenue_center_code',\n",
    "    'hcpcs_modifier_3','hcpcs_modifier_4','hcpcs_modifier_5',\n",
    "    'rendering_npi','facility_npi',\n",
    "    'diagnosis_code_13', 'diagnosis_code_14', 'diagnosis_code_15', 'diagnosis_code_16', \n",
    "    'diagnosis_code_17', 'diagnosis_code_18', 'diagnosis_code_19', 'diagnosis_code_20', \n",
    "    'diagnosis_code_21', 'diagnosis_code_22', 'diagnosis_code_23', 'diagnosis_code_24', \n",
    "    'diagnosis_code_25', 'diagnosis_poa_1', 'diagnosis_poa_2', 'diagnosis_poa_3', \n",
    "    'diagnosis_poa_4', 'diagnosis_poa_5', 'diagnosis_poa_6', 'diagnosis_poa_7', \n",
    "    'diagnosis_poa_8', 'diagnosis_poa_9', 'diagnosis_poa_10', 'diagnosis_poa_11', \n",
    "    'diagnosis_poa_12', 'diagnosis_poa_13', 'diagnosis_poa_14', 'diagnosis_poa_15', \n",
    "    'diagnosis_poa_16', 'diagnosis_poa_17', 'diagnosis_poa_18', 'diagnosis_poa_19', \n",
    "    'diagnosis_poa_20', 'diagnosis_poa_21', 'diagnosis_poa_22', 'diagnosis_poa_23', \n",
    "    'diagnosis_poa_24', 'diagnosis_poa_25', 'procedure_code_type', 'procedure_code_1', \n",
    "    'procedure_code_2', 'procedure_code_3', 'procedure_code_4', 'procedure_code_5', \n",
    "    'procedure_code_6', 'procedure_code_7', 'procedure_code_8', 'procedure_code_9', \n",
    "    'procedure_code_10', 'procedure_code_11', 'procedure_code_12', 'procedure_code_13', \n",
    "    'procedure_code_14', 'procedure_code_15', 'procedure_code_16', 'procedure_code_17', \n",
    "    'procedure_code_18', 'procedure_code_19', 'procedure_code_20', 'procedure_code_21', \n",
    "    'procedure_code_22', 'procedure_code_23', 'procedure_code_24', 'procedure_code_25',\n",
    "]:\n",
    "    dme[c] = ''\n",
    "\n",
    "\n",
    "dme['allowed_amount'] = np.nan"
   ]
  },
  {
   "cell_type": "code",
   "execution_count": null,
   "metadata": {},
   "outputs": [],
   "source": [
    "### only keep the relevant cols ###\n",
    "dme = dme.loc[:,[c for c in dme_tuva.columns.tolist()]].reset_index(drop=True)\n",
    "print(dme.shape, dme_tuva.shape)\n",
    "dme.head(1)"
   ]
  },
  {
   "cell_type": "markdown",
   "metadata": {},
   "source": [
    "#### Problems\n",
    "- Dates: `claim_end_date`, `claim_line_end_date`\n",
    "    - Python: '2015-03-25T00:00:00.000000000' (I made it a datetime)\n",
    "    - SQL: None\n",
    "    - SQL code: `sql code: {{ try_to_cast_date('b.clm_thru_dt', 'YYYYMMDD') }} as claim_end_date`"
   ]
  },
  {
   "cell_type": "code",
   "execution_count": null,
   "metadata": {},
   "outputs": [],
   "source": [
    "cols = [c for c in dme.columns if 'diagnosis_code' in c]\n",
    "m = dme[['claim_id']+cols].merge(dme_tuva[['claim_id']+cols], on='claim_id', how='outer', indicator=True)\n",
    "m._merge.value_counts()"
   ]
  },
  {
   "cell_type": "code",
   "execution_count": null,
   "metadata": {},
   "outputs": [],
   "source": [
    "for c in cols:\n",
    "    v = m.loc[(m[f'{c}_x'].notna()) & (m[f'{c}_y'].notna()),:]\n",
    "    if (v[f'{c}_x'].values != v[f'{c}_y'].values).sum() > 0:\n",
    "        print(c)"
   ]
  },
  {
   "cell_type": "markdown",
   "metadata": {},
   "source": [
    "### Eligibility (Intermediate)\n",
    "https://github.com/manganese-ai/medicare_lds_connector/blob/main/models/intermediate/eligibility_unpivot.sql"
   ]
  },
  {
   "cell_type": "code",
   "execution_count": null,
   "metadata": {},
   "outputs": [],
   "source": [
    "sql = '''SELECT * FROM SANDBOX_FFS.LDS.MASTER_BENEFICIARY_SUMMARY;'''\n",
    "base_name = 'master_beneficiary_summary'\n",
    "check_dfs(sql, base_name)\n",
    "\n",
    "# equivalent"
   ]
  },
  {
   "cell_type": "markdown",
   "metadata": {},
   "source": [
    "### Home Health\n",
    "https://github.com/manganese-ai/medicare_lds_connector/blob/main/models/intermediate/home_health_claim.sql"
   ]
  },
  {
   "cell_type": "code",
   "execution_count": null,
   "metadata": {},
   "outputs": [],
   "source": [
    "# base claim\n",
    "sql = '''SELECT * FROM SANDBOX_FFS.LDS.HHA_BASE_CLAIM;'''\n",
    "base_name = 'hha_base_claim'\n",
    "check_dfs(sql, base_name)\n",
    "\n",
    "# equivalent"
   ]
  },
  {
   "cell_type": "code",
   "execution_count": null,
   "metadata": {},
   "outputs": [],
   "source": [
    "# revenue center\n",
    "sql = '''SELECT * FROM SANDBOX_FFS.LDS.HHA_REVENUE_CENTER;'''\n",
    "base_name = 'hha_revenue_center'\n",
    "check_dfs(sql, base_name)\n",
    "\n",
    "# equivalent"
   ]
  },
  {
   "cell_type": "markdown",
   "metadata": {},
   "source": [
    "### Hospice\n",
    "https://github.com/manganese-ai/medicare_lds_connector/blob/main/models/intermediate/hospice_claim.sql"
   ]
  },
  {
   "cell_type": "code",
   "execution_count": null,
   "metadata": {},
   "outputs": [],
   "source": [
    "# base claim\n",
    "sql = '''SELECT * FROM SANDBOX_FFS.LDS.HOSPICE_BASE_CLAIM;'''\n",
    "base_name = 'hospice_base_claim'\n",
    "check_dfs(sql, base_name)\n",
    "\n",
    "# equivalent"
   ]
  },
  {
   "cell_type": "code",
   "execution_count": null,
   "metadata": {},
   "outputs": [],
   "source": [
    "# revenue center\n",
    "sql = '''SELECT * FROM SANDBOX_FFS.LDS.HOSPICE_REVENUE_CENTER;'''\n",
    "base_name = 'hospice_revenue_center'\n",
    "check_dfs(sql, base_name)"
   ]
  },
  {
   "cell_type": "markdown",
   "metadata": {},
   "source": [
    "### Inpatient\n",
    "https://github.com/manganese-ai/medicare_lds_connector/blob/main/models/intermediate/inpatient_claim.sql"
   ]
  },
  {
   "cell_type": "code",
   "execution_count": 38,
   "metadata": {},
   "outputs": [
    {
     "data": {
      "text/html": [
       "<div>\n",
       "<style scoped>\n",
       "    .dataframe tbody tr th:only-of-type {\n",
       "        vertical-align: middle;\n",
       "    }\n",
       "\n",
       "    .dataframe tbody tr th {\n",
       "        vertical-align: top;\n",
       "    }\n",
       "\n",
       "    .dataframe thead th {\n",
       "        text-align: right;\n",
       "    }\n",
       "</style>\n",
       "<table border=\"1\" class=\"dataframe\">\n",
       "  <thead>\n",
       "    <tr style=\"text-align: right;\">\n",
       "      <th></th>\n",
       "      <th>icd_dgns_cd10</th>\n",
       "      <th>prcdr_dt13</th>\n",
       "      <th>clm_poa_ind_sw12</th>\n",
       "      <th>clm_pmt_amt</th>\n",
       "      <th>clm_ip_admsn_type_cd</th>\n",
       "      <th>icd_prcdr_cd2</th>\n",
       "      <th>icd_prcdr_cd16</th>\n",
       "      <th>clm_tot_chrg_amt</th>\n",
       "      <th>prcdr_dt14</th>\n",
       "      <th>icd_dgns_cd13</th>\n",
       "      <th>prcdr_dt21</th>\n",
       "      <th>clm_poa_ind_sw11</th>\n",
       "      <th>prcdr_dt25</th>\n",
       "      <th>icd_prcdr_cd3</th>\n",
       "      <th>prcdr_dt1</th>\n",
       "      <th>prcdr_dt19</th>\n",
       "      <th>clm_poa_ind_sw22</th>\n",
       "      <th>prcdr_dt6</th>\n",
       "      <th>clm_poa_ind_sw14</th>\n",
       "      <th>icd_prcdr_cd12</th>\n",
       "      <th>icd_prcdr_cd6</th>\n",
       "      <th>icd_dgns_cd3</th>\n",
       "      <th>claim_no</th>\n",
       "      <th>clm_thru_dt</th>\n",
       "      <th>icd_dgns_cd4</th>\n",
       "      <th>prcdr_dt10</th>\n",
       "      <th>clm_poa_ind_sw20</th>\n",
       "      <th>icd_prcdr_cd11</th>\n",
       "      <th>icd_prcdr_cd20</th>\n",
       "      <th>icd_prcdr_cd22</th>\n",
       "      <th>icd_prcdr_cd8</th>\n",
       "      <th>rndrng_physn_npi</th>\n",
       "      <th>clm_poa_ind_sw7</th>\n",
       "      <th>icd_dgns_cd23</th>\n",
       "      <th>icd_prcdr_cd10</th>\n",
       "      <th>icd_dgns_cd21</th>\n",
       "      <th>ptnt_dschrg_stus_cd</th>\n",
       "      <th>icd_dgns_cd11</th>\n",
       "      <th>prcdr_dt9</th>\n",
       "      <th>prcdr_dt3</th>\n",
       "      <th>icd_prcdr_cd23</th>\n",
       "      <th>icd_prcdr_cd18</th>\n",
       "      <th>prcdr_dt22</th>\n",
       "      <th>clm_poa_ind_sw9</th>\n",
       "      <th>prcdr_dt20</th>\n",
       "      <th>icd_prcdr_cd17</th>\n",
       "      <th>clm_src_ip_admsn_cd</th>\n",
       "      <th>icd_dgns_cd19</th>\n",
       "      <th>icd_prcdr_cd21</th>\n",
       "      <th>clm_poa_ind_sw25</th>\n",
       "      <th>clm_poa_ind_sw6</th>\n",
       "      <th>icd_dgns_cd16</th>\n",
       "      <th>icd_dgns_cd9</th>\n",
       "      <th>icd_prcdr_cd13</th>\n",
       "      <th>clm_poa_ind_sw3</th>\n",
       "      <th>icd_prcdr_cd5</th>\n",
       "      <th>clm_poa_ind_sw24</th>\n",
       "      <th>prcdr_dt7</th>\n",
       "      <th>icd_dgns_cd8</th>\n",
       "      <th>clm_poa_ind_sw2</th>\n",
       "      <th>prcdr_dt15</th>\n",
       "      <th>icd_dgns_cd6</th>\n",
       "      <th>prcdr_dt24</th>\n",
       "      <th>icd_prcdr_cd7</th>\n",
       "      <th>icd_dgns_cd7</th>\n",
       "      <th>prcdr_dt5</th>\n",
       "      <th>clm_poa_ind_sw13</th>\n",
       "      <th>org_npi_num</th>\n",
       "      <th>clm_poa_ind_sw16</th>\n",
       "      <th>icd_dgns_cd20</th>\n",
       "      <th>icd_prcdr_cd24</th>\n",
       "      <th>clm_poa_ind_sw18</th>\n",
       "      <th>clm_poa_ind_sw8</th>\n",
       "      <th>prcdr_dt11</th>\n",
       "      <th>icd_prcdr_cd9</th>\n",
       "      <th>icd_dgns_cd25</th>\n",
       "      <th>nch_clm_type_cd</th>\n",
       "      <th>clm_poa_ind_sw23</th>\n",
       "      <th>icd_dgns_cd2</th>\n",
       "      <th>clm_poa_ind_sw21</th>\n",
       "      <th>prcdr_dt17</th>\n",
       "      <th>clm_freq_cd</th>\n",
       "      <th>clm_poa_ind_sw15</th>\n",
       "      <th>icd_prcdr_cd1</th>\n",
       "      <th>prncpal_dgns_cd</th>\n",
       "      <th>icd_dgns_cd22</th>\n",
       "      <th>icd_dgns_cd17</th>\n",
       "      <th>prcdr_dt4</th>\n",
       "      <th>icd_prcdr_cd19</th>\n",
       "      <th>clm_srvc_clsfctn_type_cd</th>\n",
       "      <th>prcdr_dt18</th>\n",
       "      <th>icd_prcdr_cd15</th>\n",
       "      <th>clm_poa_ind_sw19</th>\n",
       "      <th>icd_dgns_cd12</th>\n",
       "      <th>prcdr_dt12</th>\n",
       "      <th>icd_prcdr_cd25</th>\n",
       "      <th>icd_prcdr_cd4</th>\n",
       "      <th>prcdr_dt2</th>\n",
       "      <th>desy_sort_key</th>\n",
       "      <th>icd_prcdr_cd14</th>\n",
       "      <th>nch_bene_dschrg_dt</th>\n",
       "      <th>prcdr_dt8</th>\n",
       "      <th>clm_mdcr_non_pmt_rsn_cd</th>\n",
       "      <th>icd_dgns_cd15</th>\n",
       "      <th>clm_poa_ind_sw5</th>\n",
       "      <th>clm_drg_cd</th>\n",
       "      <th>prcdr_dt16</th>\n",
       "      <th>icd_dgns_cd14</th>\n",
       "      <th>icd_dgns_cd24</th>\n",
       "      <th>clm_fac_type_cd</th>\n",
       "      <th>icd_dgns_cd18</th>\n",
       "      <th>clm_poa_ind_sw17</th>\n",
       "      <th>icd_dgns_cd5</th>\n",
       "      <th>clm_admsn_dt</th>\n",
       "      <th>prcdr_dt23</th>\n",
       "      <th>clm_poa_ind_sw10</th>\n",
       "      <th>clm_poa_ind_sw4</th>\n",
       "      <th>clm_poa_ind_sw1</th>\n",
       "    </tr>\n",
       "  </thead>\n",
       "  <tbody>\n",
       "    <tr>\n",
       "      <th>0</th>\n",
       "      <td>E849</td>\n",
       "      <td>None</td>\n",
       "      <td>None</td>\n",
       "      <td>96.65</td>\n",
       "      <td>1</td>\n",
       "      <td>None</td>\n",
       "      <td>None</td>\n",
       "      <td>96.65</td>\n",
       "      <td>None</td>\n",
       "      <td>None</td>\n",
       "      <td>None</td>\n",
       "      <td>None</td>\n",
       "      <td>None</td>\n",
       "      <td>None</td>\n",
       "      <td>None</td>\n",
       "      <td>None</td>\n",
       "      <td>None</td>\n",
       "      <td>None</td>\n",
       "      <td>None</td>\n",
       "      <td>None</td>\n",
       "      <td>None</td>\n",
       "      <td>E781</td>\n",
       "      <td>-1.000093e+13</td>\n",
       "      <td>20150325</td>\n",
       "      <td>J329</td>\n",
       "      <td>None</td>\n",
       "      <td>None</td>\n",
       "      <td>None</td>\n",
       "      <td>None</td>\n",
       "      <td>None</td>\n",
       "      <td>None</td>\n",
       "      <td>9999870899</td>\n",
       "      <td>Y</td>\n",
       "      <td>None</td>\n",
       "      <td>None</td>\n",
       "      <td>None</td>\n",
       "      <td>1</td>\n",
       "      <td>None</td>\n",
       "      <td>None</td>\n",
       "      <td>None</td>\n",
       "      <td>None</td>\n",
       "      <td>None</td>\n",
       "      <td>None</td>\n",
       "      <td>Y</td>\n",
       "      <td>None</td>\n",
       "      <td>None</td>\n",
       "      <td>4</td>\n",
       "      <td>None</td>\n",
       "      <td>None</td>\n",
       "      <td>None</td>\n",
       "      <td>Y</td>\n",
       "      <td>None</td>\n",
       "      <td>N469</td>\n",
       "      <td>None</td>\n",
       "      <td>Y</td>\n",
       "      <td>None</td>\n",
       "      <td>None</td>\n",
       "      <td>None</td>\n",
       "      <td>B965</td>\n",
       "      <td>Y</td>\n",
       "      <td>None</td>\n",
       "      <td>D649</td>\n",
       "      <td>None</td>\n",
       "      <td>None</td>\n",
       "      <td>E849</td>\n",
       "      <td>None</td>\n",
       "      <td>None</td>\n",
       "      <td>1578657367</td>\n",
       "      <td>None</td>\n",
       "      <td>None</td>\n",
       "      <td>None</td>\n",
       "      <td>None</td>\n",
       "      <td>Y</td>\n",
       "      <td>None</td>\n",
       "      <td>None</td>\n",
       "      <td>None</td>\n",
       "      <td>60</td>\n",
       "      <td>None</td>\n",
       "      <td>R4689</td>\n",
       "      <td>None</td>\n",
       "      <td>None</td>\n",
       "      <td>1</td>\n",
       "      <td>None</td>\n",
       "      <td>None</td>\n",
       "      <td>S134XX</td>\n",
       "      <td>None</td>\n",
       "      <td>None</td>\n",
       "      <td>None</td>\n",
       "      <td>None</td>\n",
       "      <td>1</td>\n",
       "      <td>None</td>\n",
       "      <td>None</td>\n",
       "      <td>None</td>\n",
       "      <td>None</td>\n",
       "      <td>None</td>\n",
       "      <td>None</td>\n",
       "      <td>None</td>\n",
       "      <td>None</td>\n",
       "      <td>-1.000001e+13</td>\n",
       "      <td>None</td>\n",
       "      <td>20150325</td>\n",
       "      <td>None</td>\n",
       "      <td>None</td>\n",
       "      <td>None</td>\n",
       "      <td>Y</td>\n",
       "      <td>551.0</td>\n",
       "      <td>None</td>\n",
       "      <td>None</td>\n",
       "      <td>None</td>\n",
       "      <td>1</td>\n",
       "      <td>None</td>\n",
       "      <td>None</td>\n",
       "      <td>E119</td>\n",
       "      <td>20150325</td>\n",
       "      <td>None</td>\n",
       "      <td>Y</td>\n",
       "      <td>Y</td>\n",
       "      <td>Y</td>\n",
       "    </tr>\n",
       "  </tbody>\n",
       "</table>\n",
       "</div>"
      ],
      "text/plain": [
       "  icd_dgns_cd10 prcdr_dt13 clm_poa_ind_sw12  clm_pmt_amt clm_ip_admsn_type_cd  \\\n",
       "0          E849       None             None        96.65                    1   \n",
       "\n",
       "  icd_prcdr_cd2 icd_prcdr_cd16  clm_tot_chrg_amt prcdr_dt14 icd_dgns_cd13  \\\n",
       "0          None           None             96.65       None          None   \n",
       "\n",
       "  prcdr_dt21 clm_poa_ind_sw11 prcdr_dt25 icd_prcdr_cd3 prcdr_dt1 prcdr_dt19  \\\n",
       "0       None             None       None          None      None       None   \n",
       "\n",
       "  clm_poa_ind_sw22 prcdr_dt6 clm_poa_ind_sw14 icd_prcdr_cd12 icd_prcdr_cd6  \\\n",
       "0             None      None             None           None          None   \n",
       "\n",
       "  icd_dgns_cd3      claim_no clm_thru_dt icd_dgns_cd4 prcdr_dt10  \\\n",
       "0         E781 -1.000093e+13    20150325         J329       None   \n",
       "\n",
       "  clm_poa_ind_sw20 icd_prcdr_cd11 icd_prcdr_cd20 icd_prcdr_cd22 icd_prcdr_cd8  \\\n",
       "0             None           None           None           None          None   \n",
       "\n",
       "  rndrng_physn_npi clm_poa_ind_sw7 icd_dgns_cd23 icd_prcdr_cd10 icd_dgns_cd21  \\\n",
       "0       9999870899               Y          None           None          None   \n",
       "\n",
       "  ptnt_dschrg_stus_cd icd_dgns_cd11 prcdr_dt9 prcdr_dt3 icd_prcdr_cd23  \\\n",
       "0                   1          None      None      None           None   \n",
       "\n",
       "  icd_prcdr_cd18 prcdr_dt22 clm_poa_ind_sw9 prcdr_dt20 icd_prcdr_cd17  \\\n",
       "0           None       None               Y       None           None   \n",
       "\n",
       "  clm_src_ip_admsn_cd icd_dgns_cd19 icd_prcdr_cd21 clm_poa_ind_sw25  \\\n",
       "0                   4          None           None             None   \n",
       "\n",
       "  clm_poa_ind_sw6 icd_dgns_cd16 icd_dgns_cd9 icd_prcdr_cd13 clm_poa_ind_sw3  \\\n",
       "0               Y          None         N469           None               Y   \n",
       "\n",
       "  icd_prcdr_cd5 clm_poa_ind_sw24 prcdr_dt7 icd_dgns_cd8 clm_poa_ind_sw2  \\\n",
       "0          None             None      None         B965               Y   \n",
       "\n",
       "  prcdr_dt15 icd_dgns_cd6 prcdr_dt24 icd_prcdr_cd7 icd_dgns_cd7 prcdr_dt5  \\\n",
       "0       None         D649       None          None         E849      None   \n",
       "\n",
       "  clm_poa_ind_sw13 org_npi_num clm_poa_ind_sw16 icd_dgns_cd20 icd_prcdr_cd24  \\\n",
       "0             None  1578657367             None          None           None   \n",
       "\n",
       "  clm_poa_ind_sw18 clm_poa_ind_sw8 prcdr_dt11 icd_prcdr_cd9 icd_dgns_cd25  \\\n",
       "0             None               Y       None          None          None   \n",
       "\n",
       "  nch_clm_type_cd clm_poa_ind_sw23 icd_dgns_cd2 clm_poa_ind_sw21 prcdr_dt17  \\\n",
       "0              60             None        R4689             None       None   \n",
       "\n",
       "  clm_freq_cd clm_poa_ind_sw15 icd_prcdr_cd1 prncpal_dgns_cd icd_dgns_cd22  \\\n",
       "0           1             None          None          S134XX          None   \n",
       "\n",
       "  icd_dgns_cd17 prcdr_dt4 icd_prcdr_cd19 clm_srvc_clsfctn_type_cd prcdr_dt18  \\\n",
       "0          None      None           None                        1       None   \n",
       "\n",
       "  icd_prcdr_cd15 clm_poa_ind_sw19 icd_dgns_cd12 prcdr_dt12 icd_prcdr_cd25  \\\n",
       "0           None             None          None       None           None   \n",
       "\n",
       "  icd_prcdr_cd4 prcdr_dt2  desy_sort_key icd_prcdr_cd14 nch_bene_dschrg_dt  \\\n",
       "0          None      None  -1.000001e+13           None           20150325   \n",
       "\n",
       "  prcdr_dt8 clm_mdcr_non_pmt_rsn_cd icd_dgns_cd15 clm_poa_ind_sw5 clm_drg_cd  \\\n",
       "0      None                    None          None               Y      551.0   \n",
       "\n",
       "  prcdr_dt16 icd_dgns_cd14 icd_dgns_cd24 clm_fac_type_cd icd_dgns_cd18  \\\n",
       "0       None          None          None               1          None   \n",
       "\n",
       "  clm_poa_ind_sw17 icd_dgns_cd5 clm_admsn_dt prcdr_dt23 clm_poa_ind_sw10  \\\n",
       "0             None         E119     20150325       None                Y   \n",
       "\n",
       "  clm_poa_ind_sw4 clm_poa_ind_sw1  \n",
       "0               Y               Y  "
      ]
     },
     "execution_count": 38,
     "metadata": {},
     "output_type": "execute_result"
    }
   ],
   "source": [
    "# base claim\n",
    "sql = '''SELECT * FROM SANDBOX_FFS.LDS.INPATIENT_BASE_CLAIM;'''\n",
    "base_name = 'inpatient_base_claim'\n",
    "b = read_sql(sql)\n",
    "b.head(1)\n",
    "# check_dfs(sql, base_name)\n",
    "\n",
    "# equivalent"
   ]
  },
  {
   "cell_type": "code",
   "execution_count": 41,
   "metadata": {},
   "outputs": [
    {
     "data": {
      "text/plain": [
       "array(['1'], dtype=object)"
      ]
     },
     "execution_count": 41,
     "metadata": {},
     "output_type": "execute_result"
    }
   ],
   "source": [
    "b.clm_freq_cd.unique()"
   ]
  },
  {
   "cell_type": "code",
   "execution_count": null,
   "metadata": {},
   "outputs": [],
   "source": [
    "b['bill_type_code'] = b['clm_fac_type_cd'].astype(str) + b['clm_srvc_clsfctn_type_cd'].astype(str) + "
   ]
  },
  {
   "cell_type": "code",
   "execution_count": null,
   "metadata": {},
   "outputs": [],
   "source": [
    "# revenue center\n",
    "sql = '''SELECT * FROM SANDBOX_FFS.LDS.INPATIENT_REVENUE_CENTER;'''\n",
    "base_name = 'inpatient_revenue_center'\n",
    "check_dfs(sql, base_name)\n",
    "\n",
    "# equivalent"
   ]
  },
  {
   "cell_type": "markdown",
   "metadata": {},
   "source": [
    "### Outpatient\n",
    "https://github.com/manganese-ai/medicare_lds_connector/blob/main/models/intermediate/outpatient_claim.sql"
   ]
  },
  {
   "cell_type": "code",
   "execution_count": null,
   "metadata": {},
   "outputs": [],
   "source": [
    "# base claim\n",
    "sql = '''SELECT * FROM SANDBOX_FFS.LDS.OUTPATIENT_BASE_CLAIM;'''\n",
    "base_name = 'outpatient_base_claim'\n",
    "check_dfs(sql, base_name)\n",
    "\n",
    "# equivalent"
   ]
  },
  {
   "cell_type": "code",
   "execution_count": null,
   "metadata": {},
   "outputs": [],
   "source": [
    "# revenue center\n",
    "sql = '''SELECT * FROM SANDBOX_FFS.LDS.OUTPATIENT_REVENUE_CENTER;'''\n",
    "base_name = 'outpatient_revenue_center'\n",
    "check_dfs(sql, base_name)\n",
    "\n",
    "# equivalent"
   ]
  },
  {
   "cell_type": "markdown",
   "metadata": {},
   "source": [
    "### SNF\n",
    "https://github.com/manganese-ai/medicare_lds_connector/blob/main/models/intermediate/snf_claim.sql"
   ]
  },
  {
   "cell_type": "code",
   "execution_count": null,
   "metadata": {},
   "outputs": [],
   "source": [
    "# base claim\n",
    "sql = '''SELECT * FROM SANDBOX_FFS.LDS.SNF_BASE_CLAIM;'''\n",
    "base_name = 'snf_base_claim'\n",
    "check_dfs(sql, base_name)\n",
    "\n",
    "# equivalent"
   ]
  },
  {
   "cell_type": "code",
   "execution_count": null,
   "metadata": {},
   "outputs": [],
   "source": [
    "# revenue center\n",
    "sql = '''SELECT * FROM SANDBOX_FFS.LDS.SNF_REVENUE_CENTER;'''\n",
    "base_name = 'snf_revenue_center'\n",
    "check_dfs(sql, base_name)\n",
    "\n",
    "# equivalent"
   ]
  },
  {
   "cell_type": "markdown",
   "metadata": {},
   "source": [
    "### Medical Claim\n",
    "https://github.com/manganese-ai/medicare_lds_connector/blob/main/models/final/medical_claim.sql"
   ]
  },
  {
   "cell_type": "code",
   "execution_count": null,
   "metadata": {},
   "outputs": [],
   "source": []
  },
  {
   "cell_type": "markdown",
   "metadata": {},
   "source": [
    "### Eligibility (Final)\n",
    "https://github.com/manganese-ai/medicare_lds_connector/blob/main/models/final/eligibility.sql"
   ]
  },
  {
   "cell_type": "code",
   "execution_count": null,
   "metadata": {},
   "outputs": [],
   "source": []
  }
 ],
 "metadata": {
  "kernelspec": {
   "display_name": "tuva",
   "language": "python",
   "name": "python3"
  },
  "language_info": {
   "codemirror_mode": {
    "name": "ipython",
    "version": 3
   },
   "file_extension": ".py",
   "mimetype": "text/x-python",
   "name": "python",
   "nbconvert_exporter": "python",
   "pygments_lexer": "ipython3",
   "version": "3.9.13"
  },
  "orig_nbformat": 4
 },
 "nbformat": 4,
 "nbformat_minor": 2
}
