{
 "cells": [
  {
   "cell_type": "code",
   "execution_count": 1,
   "metadata": {},
   "outputs": [],
   "source": [
    "import sys\n",
    "import json\n",
    "import pickle\n",
    "import snowflake.connector\n",
    "from snowflake.connector.pandas_tools import write_pandas, pd_writer\n",
    "import getpass as gt\n",
    "import pandas as pd\n",
    "import numpy as np\n",
    "\n",
    "from snowflake_conn import *\n",
    "\n",
    "pd.set_option('display.max_columns', None)\n",
    "pd.set_option('display.max_rows', None)\n"
   ]
  },
  {
   "cell_type": "code",
   "execution_count": 2,
   "metadata": {},
   "outputs": [],
   "source": [
    "conn = get_connection()"
   ]
  },
  {
   "cell_type": "markdown",
   "metadata": {},
   "source": [
    "## Figure out why only outpatient claims are populating in cost, even though there are inpatient/snf claims in the Tuva medical claims model"
   ]
  },
  {
   "cell_type": "markdown",
   "metadata": {},
   "source": [
    "#### Start with raw Tuva medical claim\n",
    "`dbt_packages/the_tuva_project/models/claims_preprocessing/service_category/staging/service_category__stg_medical_claim.sql`"
   ]
  },
  {
   "cell_type": "code",
   "execution_count": 3,
   "metadata": {},
   "outputs": [
    {
     "name": "stdout",
     "output_type": "stream",
     "text": [
      "(1000000, 9)\n"
     ]
    },
    {
     "data": {
      "text/html": [
       "<div>\n",
       "<style scoped>\n",
       "    .dataframe tbody tr th:only-of-type {\n",
       "        vertical-align: middle;\n",
       "    }\n",
       "\n",
       "    .dataframe tbody tr th {\n",
       "        vertical-align: top;\n",
       "    }\n",
       "\n",
       "    .dataframe thead th {\n",
       "        text-align: right;\n",
       "    }\n",
       "</style>\n",
       "<table border=\"1\" class=\"dataframe\">\n",
       "  <thead>\n",
       "    <tr style=\"text-align: right;\">\n",
       "      <th></th>\n",
       "      <th>apr_drg_code</th>\n",
       "      <th>bill_type_code</th>\n",
       "      <th>claim_id</th>\n",
       "      <th>claim_line_number</th>\n",
       "      <th>claim_type</th>\n",
       "      <th>hcpcs_code</th>\n",
       "      <th>ms_drg_code</th>\n",
       "      <th>place_of_service_code</th>\n",
       "      <th>revenue_center_code</th>\n",
       "    </tr>\n",
       "  </thead>\n",
       "  <tbody>\n",
       "    <tr>\n",
       "      <th>0</th>\n",
       "      <td>None</td>\n",
       "      <td>111</td>\n",
       "      <td>-10000931441070202160</td>\n",
       "      <td>5</td>\n",
       "      <td>institutional</td>\n",
       "      <td>93229</td>\n",
       "      <td>951</td>\n",
       "      <td>None</td>\n",
       "      <td>0001</td>\n",
       "    </tr>\n",
       "  </tbody>\n",
       "</table>\n",
       "</div>"
      ],
      "text/plain": [
       "  apr_drg_code bill_type_code               claim_id  claim_line_number  \\\n",
       "0         None            111  -10000931441070202160                  5   \n",
       "\n",
       "      claim_type hcpcs_code ms_drg_code place_of_service_code  \\\n",
       "0  institutional      93229         951                  None   \n",
       "\n",
       "  revenue_center_code  \n",
       "0                0001  "
      ]
     },
     "execution_count": 3,
     "metadata": {},
     "output_type": "execute_result"
    }
   ],
   "source": [
    "sql='''\n",
    "select\n",
    "APR_DRG_CODE,\n",
    "BILL_TYPE_CODE,\n",
    "CLAIM_ID,\n",
    "CLAIM_LINE_NUMBER,\n",
    "CLAIM_TYPE,\n",
    "HCPCS_CODE,\n",
    "MS_DRG_CODE,\n",
    "PLACE_OF_SERVICE_CODE,\n",
    "REVENUE_CENTER_CODE\n",
    "from SANDBOX_FFS._tuva_claims.medical_claim\n",
    "limit 1000000\n",
    "'''\n",
    "\n",
    "raw_claim = read_sql(sql)\n",
    "print(raw_claim.shape)\n",
    "raw_claim.head(1)"
   ]
  },
  {
   "cell_type": "code",
   "execution_count": 5,
   "metadata": {},
   "outputs": [
    {
     "data": {
      "text/plain": [
       "array(['951', '965', '976', '019', '964', '102', '947', '563', '950',\n",
       "       '559', '949', '791', '599', None, '152', '914', '202', '564',\n",
       "       '190', '793', '887', '203', '281', '100', '683', '865', '605',\n",
       "       '963', '057', '884', '922', '056', '307', '316', '314', '315',\n",
       "       '923', '008', '682', '222', '583', '597', '157', '604', '093',\n",
       "       '607', '562', '302', '566', '561', '560', '013', '913', '544',\n",
       "       '543', '582', '374', '090', '204', '153', '282', '283', '684',\n",
       "       '555', '556', '280', '376', '598', '284', '303', '565', '089',\n",
       "       '542', '195', '975', '103', '101', '011', '223'], dtype=object)"
      ]
     },
     "execution_count": 5,
     "metadata": {},
     "output_type": "execute_result"
    }
   ],
   "source": [
    "raw_claim.ms_drg_code.unique()"
   ]
  },
  {
   "cell_type": "markdown",
   "metadata": {},
   "source": [
    "#### Go through each type of service grouper\n",
    "`dbt_packages/the_tuva_project/models/claims_preprocessing/service_category/intermediate/*.sql`\n",
    "- *Note: the source of truth from these apparently comes from `SANDBOX_FFS._tuva_claims.medical_claim` -- I don't know how this differs from `SANDBOX_FFS.tuva_claims.medical_claim`\n",
    "\n",
    "Data:\n",
    "- acute inpatient professional -- (294, 3)\n",
    "    - place_of_service_code = '21'\n",
    "- dme professional -- (6303, 3)\n",
    "    - hcpcs_code between 'E0100' and 'E8002'\n",
    "- emergency department professional -- (282, 3)\n",
    "    - place_of_service_code = '23'\n",
    "- home health institutional -- (493, 2)\n",
    "    - left(bill_type_code,2) in ('31','32','33')\n",
    "- home health professional -- (4225, 3)\n",
    "    - join on dme professional (claim number, claim line number)\n",
    "    - medical claim place_of_service_code in ('12')\n",
    "    - (dme claim_id is null and dme claim_line_number is null)\n",
    "- hospice institutional -- (1086, 2)\n",
    "    - left(bill_type_code,2) in ('81','82')\n",
    "- hospice professional -- (2631, 3)\n",
    "    - place_of_service_code in ('34')\n",
    "- office visit professional -- (951163, 3)\n",
    "    - place_of_service_code in ('11','02')\n",
    "- outpatient hospital or clinic institutional -- (402653, 3)\n",
    "    - join on emergency dept insitutional --> no data\n",
    "    - join on urgent care institutional --> no data\n",
    "    - left(a.bill_type_code,2) in ('13','71','73') --> populates\n",
    "    - *I don't see what the point of joining on two null tables is, even if we did have did have data there*\n",
    "- skilled nursing insitutitional -- (1632, 2)\n",
    "    - left(bill_type_code,2) in ('21','22')\n",
    "- skilled nursing professional -- (5174, 3)\n",
    "    - join on dme professional (on claim id and claim line number)\n",
    "    - place_of_service_code in ('31','32') -- not sure which one\n",
    "    - (dme claim_id is null and dme claim_line_number is null)\n",
    "- urgent care professional -- (175672, 3)\n",
    "    - place_of_service_code in ('20')\n",
    "\n",
    "No rows:\n",
    "- acute impatient institutional\n",
    "    - room and board requirement --> populates ('0100','0101','0110','0111','0112','0113','0114','0116','0117','0118','0119','0120','0121','0122','0123','0124','0126','0127','0128','0129','0130','0131','0132','0133','0134','0136','0137','0138','0139','0140','0141','0142','0143','0144','0146','0147','0148','0149','0150','0151','0152','0153','0154','0156','0157','0158','0159','0160','0164','0167','0169','0170','0171','0172','0173','0174','0179','0190','0191','0192','0193','0194','0199','0200','0201','0202','0203','0204','0206','0207','0208','0209','0210','0211','0212','0213','0214','0219','1000','1001','1002')\n",
    "    - drg requirement --> does not populate (join medical claim diagnosis with `SANDBOX_FFS.terminology.ms_drg` and `SANDBOX_FFS.terminology.apr_drg`)\n",
    "    - bill type requirement --> populates left(bill_type_code,2) in ('11','12') \n",
    "- ambulence professional\n",
    "    - (hcpcs_code between 'A0425' and 'A0436' or place_of_service_code in ('41','42'))\n",
    "- ambualatory surgery professional\n",
    "    - join on dme professional (on claim id and claim line number) --> this populates\n",
    "    - medical claim place_of_service_code in ('24') --> this doesn't populate\n",
    "    - (dme prof claim_id is null and dme prof claim_line_number is null) --> this populates\n",
    "- dialysis institutional\n",
    "    - left(bill_type_code,2) in ('72')\n",
    "- dialysis professional\n",
    "    - place_of_service_code in ('65')\n",
    "- emergency department institutional\n",
    "    - revenue_center_code in ('0450','0451','0452','0459','0981')\n",
    "    - left(bill_type_code,2) in ('13','71','73') \n",
    "    - *Note: 0456, urgent care, is included in most published definitions*\n",
    "- inpatient psychiatric professional\n",
    "    - place_of_service_code in ('51','55','56')\n",
    "- inpatient rehab professional\n",
    "    - place_of_service_code in ('61')\n",
    "- lab institutional\n",
    "    - left(bill_type_code,2) in ('14')\n",
    "- lab professional\n",
    "    - place_of_service_code = '81'\n",
    "- outpatient hospital or clinic professional\n",
    "    - place_of_service_code in ('15','17','19','22','49','50','60','71','72')\n",
    "- outpatient psychiatric institutional\n",
    "    - left(bill_type_code,2) in ('52')\n",
    "- outpatient psychiatric professional\n",
    "    - place_of_service_code in ('52','53','57','58')\n",
    "- outpatient rehab professional\n",
    "    - place_of_service_code in ('62')\n",
    "- urgent care insitutional\n",
    "    - revenue_center_code = '0456'\n",
    "    - left(bill_type_code,2) in ('13','71','73')"
   ]
  },
  {
   "cell_type": "markdown",
   "metadata": {},
   "source": [
    "Professional combined -- (1164504, 4)\n",
    "- YES: \n",
    "    - acute inpatient professional -- 294\n",
    "    - dme professional -- 6303\n",
    "    - emergency dept professional -- 282\n",
    "    - home health professional -- 4225\n",
    "    - hospice professional -- 2631\n",
    "    - outpatient hospital or clinic -- 18760\n",
    "    - office visit professional -- 951163\n",
    "    - skilled nursing professional -- 5174\n",
    "    - urgent care professional -- 175672\n",
    "- No:  \n",
    "    - ambulence professional \n",
    "    - ambulatory surgery professional\n",
    "    - dialysis professional\n",
    "    - inpatient psychiatric professional\n",
    "    - inpatient rehab professional\n",
    "    - lab professional\n",
    "    - outpatient hospital or clinic professional\n",
    "    - outpatient psychiatric professional\n",
    "    - outpatient rehab professional\n",
    "\n",
    "Insitutional combined -- (405864, 3)\n",
    "- YES:\n",
    "    - home health institutional -- 493\n",
    "    - hospice institutional -- 1086\n",
    "    - outpatient hospital or clinic -- 402653\n",
    "    - skilled nursing institutional -- 1632\n",
    "- No:\n",
    "    - acute impatient institutional\n",
    "    - dialysis institutional\n",
    "    - emergency department institutioanl\n",
    "    - lab institutional\n",
    "    - outpatient hospital or clinic institutional\n",
    "    - outpatient psychiatric institutional\n",
    "    - urgent care insitutional"
   ]
  },
  {
   "cell_type": "code",
   "execution_count": 6,
   "metadata": {},
   "outputs": [],
   "source": [
    "loc = 'SANDBOX_FFS._tuva_claims.medical_claim'"
   ]
  },
  {
   "cell_type": "code",
   "execution_count": 7,
   "metadata": {},
   "outputs": [
    {
     "name": "stdout",
     "output_type": "stream",
     "text": [
      "(1822814, 6)\n"
     ]
    },
    {
     "data": {
      "text/html": [
       "<div>\n",
       "<style scoped>\n",
       "    .dataframe tbody tr th:only-of-type {\n",
       "        vertical-align: middle;\n",
       "    }\n",
       "\n",
       "    .dataframe tbody tr th {\n",
       "        vertical-align: top;\n",
       "    }\n",
       "\n",
       "    .dataframe thead th {\n",
       "        text-align: right;\n",
       "    }\n",
       "</style>\n",
       "<table border=\"1\" class=\"dataframe\">\n",
       "  <thead>\n",
       "    <tr style=\"text-align: right;\">\n",
       "      <th></th>\n",
       "      <th>claim_id</th>\n",
       "      <th>claim_line_number</th>\n",
       "      <th>claim_type</th>\n",
       "      <th>service_category_1</th>\n",
       "      <th>service_category_2</th>\n",
       "      <th>tuva_last_run</th>\n",
       "    </tr>\n",
       "  </thead>\n",
       "  <tbody>\n",
       "    <tr>\n",
       "      <th>0</th>\n",
       "      <td>-10000930438735201771</td>\n",
       "      <td>10</td>\n",
       "      <td>professional</td>\n",
       "      <td>Office Visit</td>\n",
       "      <td>Office Visit</td>\n",
       "      <td>2023-10-06 13:01:55.037514+00:00</td>\n",
       "    </tr>\n",
       "  </tbody>\n",
       "</table>\n",
       "</div>"
      ],
      "text/plain": [
       "                claim_id  claim_line_number    claim_type service_category_1  \\\n",
       "0  -10000930438735201771                 10  professional       Office Visit   \n",
       "\n",
       "  service_category_2                     tuva_last_run  \n",
       "0       Office Visit  2023-10-06 13:01:55.037514+00:00  "
      ]
     },
     "execution_count": 7,
     "metadata": {},
     "output_type": "execute_result"
    }
   ],
   "source": [
    "# service category grouper\n",
    "sql=f'''\n",
    "select * from SANDBOX_FFS.claims_preprocessing.service_category_grouper\n",
    "'''\n",
    "scg = read_sql(sql)\n",
    "print(scg.shape)\n",
    "scg.head(1)"
   ]
  },
  {
   "cell_type": "code",
   "execution_count": 8,
   "metadata": {},
   "outputs": [
    {
     "name": "stdout",
     "output_type": "stream",
     "text": [
      "(1158786, 4)\n"
     ]
    }
   ],
   "source": [
    "# all professional data\n",
    "sql=f'''\n",
    "select * from SANDBOX_FFS.claims_preprocessing._int_combined_professional\n",
    "'''\n",
    "prof = read_sql(sql)\n",
    "print(prof.shape)"
   ]
  },
  {
   "cell_type": "code",
   "execution_count": 9,
   "metadata": {},
   "outputs": [
    {
     "name": "stdout",
     "output_type": "stream",
     "text": [
      "(405864, 2)\n"
     ]
    },
    {
     "data": {
      "text/plain": [
       "service_category_2\n",
       "Home Health                         493\n",
       "Hospice                            1086\n",
       "Outpatient Hospital or Clinic    402653\n",
       "Skilled Nursing                    1632\n",
       "dtype: int64"
      ]
     },
     "execution_count": 9,
     "metadata": {},
     "output_type": "execute_result"
    }
   ],
   "source": [
    "# all institutional data\n",
    "sql=f'''\n",
    "select * from SANDBOX_FFS.claims_preprocessing._int_combined_institutional\n",
    "'''\n",
    "inst = read_sql(sql)\n",
    "print(inst.shape)\n",
    "inst.groupby('service_category_2').size()"
   ]
  },
  {
   "cell_type": "code",
   "execution_count": 10,
   "metadata": {},
   "outputs": [
    {
     "name": "stdout",
     "output_type": "stream",
     "text": [
      "(664028, 6)\n"
     ]
    },
    {
     "data": {
      "text/plain": [
       "service_category_2\n",
       "Home Health                        6215\n",
       "Hospice                           12107\n",
       "Other                             58066\n",
       "Outpatient Hospital or Clinic    575092\n",
       "Skilled Nursing                   12548\n",
       "dtype: int64"
      ]
     },
     "execution_count": 10,
     "metadata": {},
     "output_type": "execute_result"
    }
   ],
   "source": [
    "# notice that this institutional data has more rows -- because it allows nulls, whereas the \n",
    "# istituional claim above does not\n",
    "sql=f'''\n",
    "select distinct \n",
    "    a.claim_id\n",
    "    , a.claim_line_number\n",
    "    , a.claim_type\n",
    "    , case\n",
    "        when service_category_2 = 'Acute Inpatient'               then 'Inpatient'\n",
    "        when service_category_2 = 'Ambulatory Surgery'            then 'Outpatient'\n",
    "        when service_category_2 = 'Dialysis'                      then 'Outpatient'\n",
    "        when service_category_2 = 'Emergency Department'          then 'Outpatient'\n",
    "        when service_category_2 = 'Home Health'                   then 'Outpatient'\n",
    "        when service_category_2 = 'Hospice'                       then 'Outpatient'\n",
    "        when service_category_2 = 'Inpatient Psychiatric'         then 'Inpatient'\n",
    "        when service_category_2 = 'Inpatient Rehabilitation'      then 'Inpatient'\n",
    "        when service_category_2 = 'Lab'                           then 'Ancillary'\n",
    "        when service_category_2 = 'Office Visit'                  then 'Office Visit'\n",
    "        when service_category_2 = 'Outpatient Hospital or Clinic' then 'Outpatient'\n",
    "        when service_category_2 = 'Outpatient Psychiatric'        then 'Outpatient'\n",
    "        when service_category_2 = 'Skilled Nursing'               then 'Inpatient'\n",
    "        when service_category_2 = 'Urgent Care'                   then 'Outpatient'\n",
    "        when service_category_2 is null                           then 'Other'\n",
    "    end service_category_1\n",
    "    , case\n",
    "        when service_category_2 is null then 'Other'\n",
    "        else service_category_2\n",
    "    end service_category_2\n",
    "    , '2023-10-05 19:23:07.304048+00:00' as tuva_last_run\n",
    "from {loc} a\n",
    "left join SANDBOX_FFS.claims_preprocessing._int_combined_institutional b\n",
    "on a.claim_id = b.claim_id\n",
    "where a.claim_type = 'institutional'\n",
    "'''\n",
    "tmp = read_sql(sql)\n",
    "print(tmp.shape)\n",
    "tmp.groupby('service_category_2').size()"
   ]
  },
  {
   "cell_type": "code",
   "execution_count": 12,
   "metadata": {},
   "outputs": [
    {
     "data": {
      "text/plain": [
       "claim_type     service_category_2           \n",
       "institutional  Outpatient Hospital or Clinic    575092\n",
       "               Other                             58066\n",
       "               Skilled Nursing                   12548\n",
       "               Hospice                           12107\n",
       "               Home Health                        6215\n",
       "professional   Office Visit                     948424\n",
       "               Urgent Care                      175333\n",
       "               Outpatient Hospital or Clinic     17085\n",
       "               Durable Medical Equipment          6303\n",
       "               Skilled Nursing                    5174\n",
       "               Home Health                        4225\n",
       "               Hospice                            2041\n",
       "               Emergency Department                201\n",
       "Name: count, dtype: int64"
      ]
     },
     "execution_count": 12,
     "metadata": {},
     "output_type": "execute_result"
    }
   ],
   "source": [
    "# the difference in the institutional claims is shown above (has to do with allowing nulls in this version)\n",
    "scg.groupby('claim_type')['service_category_2'].value_counts()"
   ]
  },
  {
   "cell_type": "markdown",
   "metadata": {},
   "source": [
    "### Acute Inpatient\n",
    "No claims meet this criteria (consistent with what we saw above)"
   ]
  },
  {
   "cell_type": "code",
   "execution_count": 13,
   "metadata": {},
   "outputs": [
    {
     "name": "stdout",
     "output_type": "stream",
     "text": [
      "(100000, 17)\n"
     ]
    },
    {
     "data": {
      "text/html": [
       "<div>\n",
       "<style scoped>\n",
       "    .dataframe tbody tr th:only-of-type {\n",
       "        vertical-align: middle;\n",
       "    }\n",
       "\n",
       "    .dataframe tbody tr th {\n",
       "        vertical-align: top;\n",
       "    }\n",
       "\n",
       "    .dataframe thead th {\n",
       "        text-align: right;\n",
       "    }\n",
       "</style>\n",
       "<table border=\"1\" class=\"dataframe\">\n",
       "  <thead>\n",
       "    <tr style=\"text-align: right;\">\n",
       "      <th></th>\n",
       "      <th>claim_id</th>\n",
       "      <th>claim_line_number</th>\n",
       "      <th>patient_id</th>\n",
       "      <th>claim_type</th>\n",
       "      <th>claim_start_date</th>\n",
       "      <th>claim_end_date</th>\n",
       "      <th>admission_date</th>\n",
       "      <th>discharge_date</th>\n",
       "      <th>facility_npi</th>\n",
       "      <th>ms_drg_code</th>\n",
       "      <th>apr_drg_code</th>\n",
       "      <th>admit_source_code</th>\n",
       "      <th>admit_type_code</th>\n",
       "      <th>discharge_disposition_code</th>\n",
       "      <th>paid_amount</th>\n",
       "      <th>allowed_amount</th>\n",
       "      <th>charge_amount</th>\n",
       "    </tr>\n",
       "  </thead>\n",
       "  <tbody>\n",
       "    <tr>\n",
       "      <th>0</th>\n",
       "      <td>-10000930413889201640</td>\n",
       "      <td>6</td>\n",
       "      <td>-10000010262984</td>\n",
       "      <td>institutional</td>\n",
       "      <td>None</td>\n",
       "      <td>2016-11-10</td>\n",
       "      <td>None</td>\n",
       "      <td>None</td>\n",
       "      <td>1487662961</td>\n",
       "      <td>None</td>\n",
       "      <td>None</td>\n",
       "      <td>None</td>\n",
       "      <td>None</td>\n",
       "      <td>1</td>\n",
       "      <td>625.250000</td>\n",
       "      <td>None</td>\n",
       "      <td>625.250000</td>\n",
       "    </tr>\n",
       "  </tbody>\n",
       "</table>\n",
       "</div>"
      ],
      "text/plain": [
       "                claim_id  claim_line_number       patient_id     claim_type  \\\n",
       "0  -10000930413889201640                  6  -10000010262984  institutional   \n",
       "\n",
       "  claim_start_date claim_end_date admission_date discharge_date facility_npi  \\\n",
       "0             None     2016-11-10           None           None   1487662961   \n",
       "\n",
       "  ms_drg_code apr_drg_code admit_source_code admit_type_code  \\\n",
       "0        None         None              None            None   \n",
       "\n",
       "  discharge_disposition_code paid_amount allowed_amount charge_amount  \n",
       "0                          1  625.250000           None    625.250000  "
      ]
     },
     "execution_count": 13,
     "metadata": {},
     "output_type": "execute_result"
    }
   ],
   "source": [
    "# acute inpatient medical claim\n",
    "sql=f'''\n",
    "select \n",
    "  claim_id\n",
    ", claim_line_number\n",
    ", patient_id\n",
    ", claim_type\n",
    ", claim_start_date\n",
    ", claim_end_date\n",
    ", admission_date\n",
    ", discharge_date\n",
    ", facility_npi\n",
    ", ms_drg_code\n",
    ", apr_drg_code\n",
    ", admit_source_code\n",
    ", admit_type_code\n",
    ", discharge_disposition_code\n",
    ", paid_amount\n",
    ", allowed_amount\n",
    ", charge_amount\n",
    "from SANDBOX_FFS._tuva_claims.medical_claim\n",
    "where claim_type = 'institutional'\n",
    "limit 100000\n",
    "'''\n",
    "mc = read_sql(sql)\n",
    "print(mc.shape)\n",
    "mc.head(1)"
   ]
  },
  {
   "cell_type": "code",
   "execution_count": 14,
   "metadata": {},
   "outputs": [
    {
     "name": "stdout",
     "output_type": "stream",
     "text": [
      "(5674, 4)\n"
     ]
    },
    {
     "data": {
      "text/html": [
       "<div>\n",
       "<style scoped>\n",
       "    .dataframe tbody tr th:only-of-type {\n",
       "        vertical-align: middle;\n",
       "    }\n",
       "\n",
       "    .dataframe tbody tr th {\n",
       "        vertical-align: top;\n",
       "    }\n",
       "\n",
       "    .dataframe thead th {\n",
       "        text-align: right;\n",
       "    }\n",
       "</style>\n",
       "<table border=\"1\" class=\"dataframe\">\n",
       "  <thead>\n",
       "    <tr style=\"text-align: right;\">\n",
       "      <th></th>\n",
       "      <th>claim_id</th>\n",
       "      <th>claim_type</th>\n",
       "      <th>service_category_2</th>\n",
       "      <th>tuva_last_run</th>\n",
       "    </tr>\n",
       "  </thead>\n",
       "  <tbody>\n",
       "    <tr>\n",
       "      <th>0</th>\n",
       "      <td>-10000930581790201840</td>\n",
       "      <td>institutional</td>\n",
       "      <td>Outpatient Hospital or Clinic</td>\n",
       "      <td>2023-10-05 16:59:34.487348+00:00</td>\n",
       "    </tr>\n",
       "  </tbody>\n",
       "</table>\n",
       "</div>"
      ],
      "text/plain": [
       "                claim_id     claim_type             service_category_2  \\\n",
       "0  -10000930581790201840  institutional  Outpatient Hospital or Clinic   \n",
       "\n",
       "                      tuva_last_run  \n",
       "0  2023-10-05 16:59:34.487348+00:00  "
      ]
     },
     "execution_count": 14,
     "metadata": {},
     "output_type": "execute_result"
    }
   ],
   "source": [
    "# acute inpatient service category\n",
    "sql = f'''\n",
    "SELECT\n",
    "  claim_id\n",
    ", claim_type\n",
    ", service_category_2\n",
    ", '2023-10-05 16:59:34.487348+00:00' as tuva_last_run\n",
    "from SANDBOX_FFS.claims_preprocessing.service_category_grouper\n",
    "where claim_id in {tuple(mc.claim_id.unique().tolist())}\n",
    "'''\n",
    "sc = read_sql(sql)\n",
    "print(sc.shape)\n",
    "sc.head(1)"
   ]
  },
  {
   "cell_type": "code",
   "execution_count": 15,
   "metadata": {},
   "outputs": [
    {
     "data": {
      "text/plain": [
       "array(['Outpatient Hospital or Clinic'], dtype=object)"
      ]
     },
     "execution_count": 15,
     "metadata": {},
     "output_type": "execute_result"
    }
   ],
   "source": [
    "# none of these are inpatient\n",
    "sc.service_category_2.unique()"
   ]
  },
  {
   "cell_type": "code",
   "execution_count": 16,
   "metadata": {},
   "outputs": [
    {
     "name": "stdout",
     "output_type": "stream",
     "text": [
      "(797, 6)\n"
     ]
    },
    {
     "data": {
      "text/html": [
       "<div>\n",
       "<style scoped>\n",
       "    .dataframe tbody tr th:only-of-type {\n",
       "        vertical-align: middle;\n",
       "    }\n",
       "\n",
       "    .dataframe tbody tr th {\n",
       "        vertical-align: top;\n",
       "    }\n",
       "\n",
       "    .dataframe thead th {\n",
       "        text-align: right;\n",
       "    }\n",
       "</style>\n",
       "<table border=\"1\" class=\"dataframe\">\n",
       "  <thead>\n",
       "    <tr style=\"text-align: right;\">\n",
       "      <th></th>\n",
       "      <th>ms_drg_code</th>\n",
       "      <th>mdc_code</th>\n",
       "      <th>medical_surgical</th>\n",
       "      <th>ms_drg_description</th>\n",
       "      <th>deprecated</th>\n",
       "      <th>deprecated_date</th>\n",
       "    </tr>\n",
       "  </thead>\n",
       "  <tbody>\n",
       "    <tr>\n",
       "      <th>0</th>\n",
       "      <td>001</td>\n",
       "      <td>None</td>\n",
       "      <td>Surgical</td>\n",
       "      <td>Heart transplant or implant of heart assist sy...</td>\n",
       "      <td>0</td>\n",
       "      <td>2023-04-01</td>\n",
       "    </tr>\n",
       "  </tbody>\n",
       "</table>\n",
       "</div>"
      ],
      "text/plain": [
       "  ms_drg_code mdc_code medical_surgical  \\\n",
       "0         001     None         Surgical   \n",
       "\n",
       "                                  ms_drg_description  deprecated  \\\n",
       "0  Heart transplant or implant of heart assist sy...           0   \n",
       "\n",
       "  deprecated_date  \n",
       "0      2023-04-01  "
      ]
     },
     "execution_count": 16,
     "metadata": {},
     "output_type": "execute_result"
    }
   ],
   "source": [
    "# check the terminology requirement\n",
    "sql = f'''\n",
    "select * from SANDBOX_FFS.terminology.ms_drg\n",
    "'''\n",
    "msdrg = read_sql(sql)\n",
    "print(msdrg.shape)\n",
    "msdrg.head(1)"
   ]
  },
  {
   "cell_type": "code",
   "execution_count": 17,
   "metadata": {},
   "outputs": [
    {
     "name": "stdout",
     "output_type": "stream",
     "text": [
      "(1272, 3)\n"
     ]
    },
    {
     "data": {
      "text/html": [
       "<div>\n",
       "<style scoped>\n",
       "    .dataframe tbody tr th:only-of-type {\n",
       "        vertical-align: middle;\n",
       "    }\n",
       "\n",
       "    .dataframe tbody tr th {\n",
       "        vertical-align: top;\n",
       "    }\n",
       "\n",
       "    .dataframe thead th {\n",
       "        text-align: right;\n",
       "    }\n",
       "</style>\n",
       "<table border=\"1\" class=\"dataframe\">\n",
       "  <thead>\n",
       "    <tr style=\"text-align: right;\">\n",
       "      <th></th>\n",
       "      <th>apr_drg_code</th>\n",
       "      <th>severity</th>\n",
       "      <th>apr_drg_description</th>\n",
       "    </tr>\n",
       "  </thead>\n",
       "  <tbody>\n",
       "    <tr>\n",
       "      <th>0</th>\n",
       "      <td>001</td>\n",
       "      <td>1</td>\n",
       "      <td>Liver transplant &amp;/or intestinal transplant</td>\n",
       "    </tr>\n",
       "  </tbody>\n",
       "</table>\n",
       "</div>"
      ],
      "text/plain": [
       "  apr_drg_code severity                          apr_drg_description\n",
       "0          001        1  Liver transplant &/or intestinal transplant"
      ]
     },
     "execution_count": 17,
     "metadata": {},
     "output_type": "execute_result"
    }
   ],
   "source": [
    "# check the terminology requirement\n",
    "sql = f'''\n",
    "select * from SANDBOX_FFS.terminology.apr_drg\n",
    "'''\n",
    "aprdrg = read_sql(sql)\n",
    "print(aprdrg.shape)\n",
    "aprdrg.head(1)"
   ]
  },
  {
   "cell_type": "code",
   "execution_count": 26,
   "metadata": {},
   "outputs": [
    {
     "name": "stdout",
     "output_type": "stream",
     "text": [
      "(0, 9)\n"
     ]
    },
    {
     "data": {
      "text/html": [
       "<div>\n",
       "<style scoped>\n",
       "    .dataframe tbody tr th:only-of-type {\n",
       "        vertical-align: middle;\n",
       "    }\n",
       "\n",
       "    .dataframe tbody tr th {\n",
       "        vertical-align: top;\n",
       "    }\n",
       "\n",
       "    .dataframe thead th {\n",
       "        text-align: right;\n",
       "    }\n",
       "</style>\n",
       "<table border=\"1\" class=\"dataframe\">\n",
       "  <thead>\n",
       "    <tr style=\"text-align: right;\">\n",
       "      <th></th>\n",
       "      <th>claim_id</th>\n",
       "      <th>apr_drg_code</th>\n",
       "      <th>bill_type_code</th>\n",
       "      <th>claim_type</th>\n",
       "      <th>hcpcs_code</th>\n",
       "      <th>ms_drg_code</th>\n",
       "      <th>place_of_service_code</th>\n",
       "      <th>revenue_center_code</th>\n",
       "      <th>service_category_2</th>\n",
       "    </tr>\n",
       "  </thead>\n",
       "  <tbody>\n",
       "  </tbody>\n",
       "</table>\n",
       "</div>"
      ],
      "text/plain": [
       "Empty DataFrame\n",
       "Columns: [claim_id, apr_drg_code, bill_type_code, claim_type, hcpcs_code, ms_drg_code, place_of_service_code, revenue_center_code, service_category_2]\n",
       "Index: []"
      ]
     },
     "execution_count": 26,
     "metadata": {},
     "output_type": "execute_result"
    }
   ],
   "source": [
    "# room and board requirement\n",
    "sql = f'''\n",
    "with  __dbt__cte__service_category__stg_medical_claim as (\n",
    "select\n",
    "APR_DRG_CODE,\n",
    "BILL_TYPE_CODE,\n",
    "CLAIM_ID,\n",
    "CLAIM_LINE_NUMBER,\n",
    "CLAIM_TYPE,\n",
    "HCPCS_CODE,\n",
    "MS_DRG_CODE,\n",
    "PLACE_OF_SERVICE_CODE,\n",
    "REVENUE_CENTER_CODE,\n",
    "'2023-10-05 16:59:34.487348+00:00' as tuva_last_run\n",
    "from SANDBOX_FFS._tuva_claims.medical_claim\n",
    "), \n",
    "\n",
    "room_and_board_requirement as (\n",
    "select distinct \n",
    "  claim_id\n",
    "from __dbt__cte__service_category__stg_medical_claim\n",
    "where claim_type = 'institutional'\n",
    "  and revenue_center_code in\n",
    "  ('0100','0101',\n",
    "   '0110','0111','0112','0113','0114','0116','0117','0118','0119',\n",
    "   '0120','0121','0122','0123','0124','0126','0127','0128','0129',\n",
    "   '0130','0131','0132','0133','0134','0136','0137','0138','0139',\n",
    "   '0140','0141','0142','0143','0144','0146','0147','0148','0149',\n",
    "   '0150','0151','0152','0153','0154','0156','0157','0158','0159',\n",
    "   '0160','0164','0167','0169',\n",
    "   '0170','0171','0172','0173','0174','0179',\n",
    "   '0190','0191','0192','0193','0194','0199',\n",
    "   '0200','0201','0202','0203','0204','0206','0207','0208','0209',\n",
    "   '0210','0211','0212','0213','0214','0219',\n",
    "   '1000','1001','1002')\n",
    "  and claim_id like '-100009300380312020%'\n",
    "\n",
    ")\n",
    "\n",
    "select distinct \n",
    "  a.claim_id,\n",
    "  APR_DRG_CODE,\n",
    "  BILL_TYPE_CODE,\n",
    "  CLAIM_TYPE,\n",
    "  HCPCS_CODE,\n",
    "  MS_DRG_CODE,\n",
    "  PLACE_OF_SERVICE_CODE,\n",
    "  REVENUE_CENTER_CODE,\n",
    "  'Acute Inpatient' as service_category_2\n",
    "from __dbt__cte__service_category__stg_medical_claim a\n",
    "inner join room_and_board_requirement b\n",
    "  on a.claim_id = b.claim_id\n",
    "'''\n",
    "room_board = read_sql(sql)\n",
    "print(room_board.shape)\n",
    "room_board.head(1)"
   ]
  },
  {
   "cell_type": "code",
   "execution_count": 27,
   "metadata": {},
   "outputs": [
    {
     "name": "stdout",
     "output_type": "stream",
     "text": [
      "(0, 9)\n"
     ]
    },
    {
     "data": {
      "text/html": [
       "<div>\n",
       "<style scoped>\n",
       "    .dataframe tbody tr th:only-of-type {\n",
       "        vertical-align: middle;\n",
       "    }\n",
       "\n",
       "    .dataframe tbody tr th {\n",
       "        vertical-align: top;\n",
       "    }\n",
       "\n",
       "    .dataframe thead th {\n",
       "        text-align: right;\n",
       "    }\n",
       "</style>\n",
       "<table border=\"1\" class=\"dataframe\">\n",
       "  <thead>\n",
       "    <tr style=\"text-align: right;\">\n",
       "      <th></th>\n",
       "      <th>claim_id</th>\n",
       "      <th>apr_drg_code</th>\n",
       "      <th>bill_type_code</th>\n",
       "      <th>claim_type</th>\n",
       "      <th>hcpcs_code</th>\n",
       "      <th>ms_drg_code</th>\n",
       "      <th>place_of_service_code</th>\n",
       "      <th>revenue_center_code</th>\n",
       "      <th>service_category_2</th>\n",
       "    </tr>\n",
       "  </thead>\n",
       "  <tbody>\n",
       "  </tbody>\n",
       "</table>\n",
       "</div>"
      ],
      "text/plain": [
       "Empty DataFrame\n",
       "Columns: [claim_id, apr_drg_code, bill_type_code, claim_type, hcpcs_code, ms_drg_code, place_of_service_code, revenue_center_code, service_category_2]\n",
       "Index: []"
      ]
     },
     "execution_count": 27,
     "metadata": {},
     "output_type": "execute_result"
    }
   ],
   "source": [
    "# bill\n",
    "sql = f'''\n",
    "with  __dbt__cte__service_category__stg_medical_claim as (\n",
    "select\n",
    "APR_DRG_CODE,\n",
    "BILL_TYPE_CODE,\n",
    "CLAIM_ID,\n",
    "CLAIM_LINE_NUMBER,\n",
    "CLAIM_TYPE,\n",
    "HCPCS_CODE,\n",
    "MS_DRG_CODE,\n",
    "PLACE_OF_SERVICE_CODE,\n",
    "REVENUE_CENTER_CODE,\n",
    "'2023-10-05 16:59:34.487348+00:00' as tuva_last_run\n",
    "from SANDBOX_FFS._tuva_claims.medical_claim\n",
    ")\n",
    "\n",
    ", bill_type_requirement as (\n",
    "select distinct \n",
    "  claim_id\n",
    "from __dbt__cte__service_category__stg_medical_claim\n",
    "where claim_type = 'institutional'\n",
    "  and left(bill_type_code,2) in ('11','12') \n",
    "  and claim_id like '-100009300380312020%'\n",
    "\n",
    ")\n",
    "\n",
    "select distinct \n",
    "  a.claim_id,\n",
    "  APR_DRG_CODE,\n",
    "  BILL_TYPE_CODE,\n",
    "  CLAIM_TYPE,\n",
    "  HCPCS_CODE,\n",
    "  MS_DRG_CODE,\n",
    "  PLACE_OF_SERVICE_CODE,\n",
    "  REVENUE_CENTER_CODE,\n",
    "  'Acute Inpatient' as service_category_2\n",
    "from __dbt__cte__service_category__stg_medical_claim a\n",
    "inner join bill_type_requirement b\n",
    "  on a.claim_id = b.claim_id\n",
    "'''\n",
    "bill = read_sql(sql)\n",
    "print(bill.shape)\n",
    "bill.head(1)"
   ]
  },
  {
   "cell_type": "code",
   "execution_count": 22,
   "metadata": {},
   "outputs": [
    {
     "data": {
      "text/plain": [
       "set()"
      ]
     },
     "execution_count": 22,
     "metadata": {},
     "output_type": "execute_result"
    }
   ],
   "source": [
    "r = room_board.claim_id.unique().tolist()\n",
    "b = bill.claim_id.unique().tolist()\n",
    "\n",
    "set(r) & set(b)"
   ]
  },
  {
   "cell_type": "code",
   "execution_count": null,
   "metadata": {},
   "outputs": [],
   "source": []
  }
 ],
 "metadata": {
  "kernelspec": {
   "display_name": "tuva",
   "language": "python",
   "name": "python3"
  },
  "language_info": {
   "codemirror_mode": {
    "name": "ipython",
    "version": 3
   },
   "file_extension": ".py",
   "mimetype": "text/x-python",
   "name": "python",
   "nbconvert_exporter": "python",
   "pygments_lexer": "ipython3",
   "version": "3.9.13"
  },
  "orig_nbformat": 4
 },
 "nbformat": 4,
 "nbformat_minor": 2
}
