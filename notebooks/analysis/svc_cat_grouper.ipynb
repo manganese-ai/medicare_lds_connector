{
 "cells": [
  {
   "cell_type": "code",
   "execution_count": 1,
   "metadata": {},
   "outputs": [],
   "source": [
    "import sys\n",
    "import json\n",
    "import pickle\n",
    "import snowflake.connector\n",
    "from snowflake.connector.pandas_tools import write_pandas, pd_writer\n",
    "import getpass as gt\n",
    "import pandas as pd\n",
    "import numpy as np\n",
    "\n",
    "from snowflake_conn import *\n",
    "\n",
    "pd.set_option('display.max_columns', None)\n",
    "pd.set_option('display.max_rows', None)\n"
   ]
  },
  {
   "cell_type": "code",
   "execution_count": 2,
   "metadata": {},
   "outputs": [],
   "source": [
    "conn = get_connection()"
   ]
  },
  {
   "cell_type": "markdown",
   "metadata": {},
   "source": [
    "## Figure out why only outpatient claims are populating in cost, even though there are inpatient/snf claims in the Tuva medical claims model"
   ]
  },
  {
   "cell_type": "markdown",
   "metadata": {},
   "source": [
    "#### Start with raw Tuva medical claim\n",
    "`dbt_packages/the_tuva_project/models/claims_preprocessing/service_category/staging/service_category__stg_medical_claim.sql`"
   ]
  },
  {
   "cell_type": "code",
   "execution_count": 10,
   "metadata": {},
   "outputs": [
    {
     "name": "stdout",
     "output_type": "stream",
     "text": [
      "(1000000, 9)\n"
     ]
    },
    {
     "data": {
      "text/html": [
       "<div>\n",
       "<style scoped>\n",
       "    .dataframe tbody tr th:only-of-type {\n",
       "        vertical-align: middle;\n",
       "    }\n",
       "\n",
       "    .dataframe tbody tr th {\n",
       "        vertical-align: top;\n",
       "    }\n",
       "\n",
       "    .dataframe thead th {\n",
       "        text-align: right;\n",
       "    }\n",
       "</style>\n",
       "<table border=\"1\" class=\"dataframe\">\n",
       "  <thead>\n",
       "    <tr style=\"text-align: right;\">\n",
       "      <th></th>\n",
       "      <th>apr_drg_code</th>\n",
       "      <th>bill_type_code</th>\n",
       "      <th>claim_id</th>\n",
       "      <th>claim_line_number</th>\n",
       "      <th>claim_type</th>\n",
       "      <th>hcpcs_code</th>\n",
       "      <th>ms_drg_code</th>\n",
       "      <th>place_of_service_code</th>\n",
       "      <th>revenue_center_code</th>\n",
       "    </tr>\n",
       "  </thead>\n",
       "  <tbody>\n",
       "    <tr>\n",
       "      <th>0</th>\n",
       "      <td>None</td>\n",
       "      <td>None</td>\n",
       "      <td>-10000930168411201871</td>\n",
       "      <td>1</td>\n",
       "      <td>professional</td>\n",
       "      <td>None</td>\n",
       "      <td>None</td>\n",
       "      <td>11</td>\n",
       "      <td>None</td>\n",
       "    </tr>\n",
       "  </tbody>\n",
       "</table>\n",
       "</div>"
      ],
      "text/plain": [
       "  apr_drg_code bill_type_code               claim_id  claim_line_number  \\\n",
       "0         None           None  -10000930168411201871                  1   \n",
       "\n",
       "     claim_type hcpcs_code ms_drg_code place_of_service_code  \\\n",
       "0  professional       None        None                    11   \n",
       "\n",
       "  revenue_center_code  \n",
       "0                None  "
      ]
     },
     "execution_count": 10,
     "metadata": {},
     "output_type": "execute_result"
    }
   ],
   "source": [
    "sql='''\n",
    "select\n",
    "APR_DRG_CODE,\n",
    "BILL_TYPE_CODE,\n",
    "CLAIM_ID,\n",
    "CLAIM_LINE_NUMBER,\n",
    "CLAIM_TYPE,\n",
    "HCPCS_CODE,\n",
    "MS_DRG_CODE,\n",
    "PLACE_OF_SERVICE_CODE,\n",
    "REVENUE_CENTER_CODE\n",
    "from SANDBOX_FFS._tuva_claims.medical_claim\n",
    "limit 1000000\n",
    "'''\n",
    "\n",
    "raw_claim = read_sql(sql)\n",
    "print(raw_claim.shape)\n",
    "raw_claim.head(1)"
   ]
  },
  {
   "cell_type": "markdown",
   "metadata": {},
   "source": [
    "#### Go through each type of service grouper\n",
    "`dbt_packages/the_tuva_project/models/claims_preprocessing/service_category/intermediate/*.sql`\n",
    "- *Note: the source of truth from these apparently comes from `SANDBOX_FFS._tuva_claims.medical_claim` -- I don't know how this differs from `SANDBOX_FFS.tuva_claims.medical_claim`\n",
    "\n",
    "Data:\n",
    "- acute inpatient professional -- (294, 3)\n",
    "    - place_of_service_code = '21'\n",
    "- dme professional -- (6303, 3)\n",
    "    - hcpcs_code between 'E0100' and 'E8002'\n",
    "- emergency department professional -- (282, 3)\n",
    "    - place_of_service_code = '23'\n",
    "- home health institutional -- (493, 2)\n",
    "    - left(bill_type_code,2) in ('31','32','33')\n",
    "- home health professional -- (4225, 3)\n",
    "    - join on dme professional (claim number, claim line number)\n",
    "    - medical claim place_of_service_code in ('12')\n",
    "    - (dme claim_id is null and dme claim_line_number is null)\n",
    "- hospice institutional -- (1086, 2)\n",
    "    - left(bill_type_code,2) in ('81','82')\n",
    "- hospice professional -- (2631, 3)\n",
    "    - place_of_service_code in ('34')\n",
    "- office visit professional -- (951163, 3)\n",
    "    - place_of_service_code in ('11','02')\n",
    "- outpatient hospital or clinic institutional -- (402653, 3)\n",
    "    - join on emergency dept insitutional --> no data\n",
    "    - join on urgent care institutional --> no data\n",
    "    - left(a.bill_type_code,2) in ('13','71','73') --> populates\n",
    "    - *I don't see what the point of joining on two null tables is, even if we did have did have data there*\n",
    "- skilled nursing insitutitional -- (1632, 2)\n",
    "    - left(bill_type_code,2) in ('21','22')\n",
    "- skilled nursing professional -- (5174, 3)\n",
    "    - join on dme professional (on claim id and claim line number)\n",
    "    - place_of_service_code in ('31','32') -- not sure which one\n",
    "    - (dme claim_id is null and dme claim_line_number is null)\n",
    "- urgent care professional -- (175672, 3)\n",
    "    - place_of_service_code in ('20')\n",
    "\n",
    "No rows:\n",
    "- acute impatient institutional\n",
    "    - room and board requirement --> populates ('0100','0101','0110','0111','0112','0113','0114','0116','0117','0118','0119','0120','0121','0122','0123','0124','0126','0127','0128','0129','0130','0131','0132','0133','0134','0136','0137','0138','0139','0140','0141','0142','0143','0144','0146','0147','0148','0149','0150','0151','0152','0153','0154','0156','0157','0158','0159','0160','0164','0167','0169','0170','0171','0172','0173','0174','0179','0190','0191','0192','0193','0194','0199','0200','0201','0202','0203','0204','0206','0207','0208','0209','0210','0211','0212','0213','0214','0219','1000','1001','1002')\n",
    "    - drg requirement --> does not populate (join medical claim diagnosis with `SANDBOX_FFS.terminology.ms_drg` and `SANDBOX_FFS.terminology.apr_drg`)\n",
    "    - bill type requirement --> populates left(bill_type_code,2) in ('11','12') \n",
    "- ambulence professional\n",
    "    - (hcpcs_code between 'A0425' and 'A0436' or place_of_service_code in ('41','42'))\n",
    "- ambualatory surgery professional\n",
    "    - join on dme professional (on claim id and claim line number) --> this populates\n",
    "    - medical claim place_of_service_code in ('24') --> this doesn't populate\n",
    "    - (dme prof claim_id is null and dme prof claim_line_number is null) --> this populates\n",
    "- dialysis institutional\n",
    "    - left(bill_type_code,2) in ('72')\n",
    "- dialysis professional\n",
    "    - place_of_service_code in ('65')\n",
    "- emergency department institutional\n",
    "    - revenue_center_code in ('0450','0451','0452','0459','0981')\n",
    "    - left(bill_type_code,2) in ('13','71','73') \n",
    "    - *Note: 0456, urgent care, is included in most published definitions*\n",
    "- inpatient psychiatric professional\n",
    "    - place_of_service_code in ('51','55','56')\n",
    "- inpatient rehab professional\n",
    "    - place_of_service_code in ('61')\n",
    "- lab institutional\n",
    "    - left(bill_type_code,2) in ('14')\n",
    "- lab professional\n",
    "    - place_of_service_code = '81'\n",
    "- outpatient hospital or clinic professional\n",
    "    - place_of_service_code in ('15','17','19','22','49','50','60','71','72')\n",
    "- outpatient psychiatric institutional\n",
    "    - left(bill_type_code,2) in ('52')\n",
    "- outpatient psychiatric professional\n",
    "    - place_of_service_code in ('52','53','57','58')\n",
    "- outpatient rehab professional\n",
    "    - place_of_service_code in ('62')\n",
    "- urgent care insitutional\n",
    "    - revenue_center_code = '0456'\n",
    "    - left(bill_type_code,2) in ('13','71','73')"
   ]
  },
  {
   "cell_type": "markdown",
   "metadata": {},
   "source": [
    "Professional combined -- (1164504, 4)\n",
    "- YES: \n",
    "    - acute inpatient professional -- 294\n",
    "    - dme professional -- 6303\n",
    "    - emergency dept professional -- 282\n",
    "    - home health professional -- 4225\n",
    "    - hospice professional -- 2631\n",
    "    - outpatient hospital or clinic -- 18760\n",
    "    - office visit professional -- 951163\n",
    "    - skilled nursing professional -- 5174\n",
    "    - urgent care professional -- 175672\n",
    "- No:  \n",
    "    - ambulence professional \n",
    "    - ambulatory surgery professional\n",
    "    - dialysis professional\n",
    "    - inpatient psychiatric professional\n",
    "    - inpatient rehab professional\n",
    "    - lab professional\n",
    "    - outpatient hospital or clinic professional\n",
    "    - outpatient psychiatric professional\n",
    "    - outpatient rehab professional\n",
    "\n",
    "Insitutional combined -- (405864, 3)\n",
    "- YES:\n",
    "    - home health institutional -- 493\n",
    "    - hospice institutional -- 1086\n",
    "    - outpatient hospital or clinic -- 402653\n",
    "    - skilled nursing institutional -- 1632\n",
    "- No:\n",
    "    - acute impatient institutional\n",
    "    - dialysis institutional\n",
    "    - emergency department institutioanl\n",
    "    - lab institutional\n",
    "    - outpatient hospital or clinic institutional\n",
    "    - outpatient psychiatric institutional\n",
    "    - urgent care insitutional"
   ]
  },
  {
   "cell_type": "code",
   "execution_count": 12,
   "metadata": {},
   "outputs": [],
   "source": [
    "loc = 'SANDBOX_FFS._tuva_claims.medical_claim'"
   ]
  },
  {
   "cell_type": "code",
   "execution_count": 126,
   "metadata": {},
   "outputs": [
    {
     "name": "stdout",
     "output_type": "stream",
     "text": [
      "(1822814, 5)\n"
     ]
    },
    {
     "data": {
      "text/html": [
       "<div>\n",
       "<style scoped>\n",
       "    .dataframe tbody tr th:only-of-type {\n",
       "        vertical-align: middle;\n",
       "    }\n",
       "\n",
       "    .dataframe tbody tr th {\n",
       "        vertical-align: top;\n",
       "    }\n",
       "\n",
       "    .dataframe thead th {\n",
       "        text-align: right;\n",
       "    }\n",
       "</style>\n",
       "<table border=\"1\" class=\"dataframe\">\n",
       "  <thead>\n",
       "    <tr style=\"text-align: right;\">\n",
       "      <th></th>\n",
       "      <th>claim_id</th>\n",
       "      <th>claim_line_number</th>\n",
       "      <th>claim_type</th>\n",
       "      <th>service_category_1</th>\n",
       "      <th>service_category_2</th>\n",
       "    </tr>\n",
       "  </thead>\n",
       "  <tbody>\n",
       "    <tr>\n",
       "      <th>0</th>\n",
       "      <td>-10000930682600202071</td>\n",
       "      <td>10</td>\n",
       "      <td>professional</td>\n",
       "      <td>Office Visit</td>\n",
       "      <td>Office Visit</td>\n",
       "    </tr>\n",
       "  </tbody>\n",
       "</table>\n",
       "</div>"
      ],
      "text/plain": [
       "                claim_id  claim_line_number    claim_type service_category_1  \\\n",
       "0  -10000930682600202071                 10  professional       Office Visit   \n",
       "\n",
       "  service_category_2  \n",
       "0       Office Visit  "
      ]
     },
     "execution_count": 126,
     "metadata": {},
     "output_type": "execute_result"
    }
   ],
   "source": [
    "# THIS IS STORED IN A VERY WEIRD LOCATION\n",
    "\n",
    "sql=f'''\n",
    "select * from SANDBOX_FFS.None.service_category__service_category_grouper\n",
    "'''\n",
    "tmp = read_sql(sql)\n",
    "print(tmp.shape)\n",
    "tmp.head(1)"
   ]
  },
  {
   "cell_type": "code",
   "execution_count": 127,
   "metadata": {},
   "outputs": [
    {
     "data": {
      "text/plain": [
       "claim_type     service_category_2           \n",
       "institutional  Outpatient Hospital or Clinic    575092\n",
       "               Other                             58066\n",
       "               Skilled Nursing                   12548\n",
       "               Hospice                           12107\n",
       "               Home Health                        6215\n",
       "professional   Office Visit                     948381\n",
       "               Urgent Care                      175333\n",
       "               Outpatient Hospital or Clinic     17085\n",
       "               Durable Medical Equipment          6303\n",
       "               Skilled Nursing                    5174\n",
       "               Home Health                        4225\n",
       "               Hospice                            2041\n",
       "               Emergency Department                201\n",
       "               Other                                43\n",
       "Name: count, dtype: int64"
      ]
     },
     "execution_count": 127,
     "metadata": {},
     "output_type": "execute_result"
    }
   ],
   "source": [
    "tmp.groupby('claim_type')['service_category_2'].value_counts()"
   ]
  },
  {
   "cell_type": "code",
   "execution_count": 125,
   "metadata": {},
   "outputs": [
    {
     "data": {
      "text/plain": [
       "type           service_category_2           \n",
       "institutional  Outpatient Hospital or Clinic    402653\n",
       "               Skilled Nursing                    1632\n",
       "               Hospice                            1086\n",
       "               Home Health                         493\n",
       "professional   Office Visit                     951163\n",
       "               Urgent Care                      175672\n",
       "               Outpatient Hospital or Clinic     18760\n",
       "               Durable Medical Equipment          6303\n",
       "               Skilled Nursing                    5174\n",
       "               Home Health                        4225\n",
       "               Hospice                            2631\n",
       "               Acute Inpatient                     294\n",
       "               Emergency Department                282\n",
       "Name: count, dtype: int64"
      ]
     },
     "execution_count": 125,
     "metadata": {},
     "output_type": "execute_result"
    }
   ],
   "source": [
    "both.groupby('type')['service_category_2'].value_counts()"
   ]
  },
  {
   "cell_type": "code",
   "execution_count": 115,
   "metadata": {},
   "outputs": [
    {
     "name": "stdout",
     "output_type": "stream",
     "text": [
      "(1164504, 4)\n"
     ]
    },
    {
     "data": {
      "text/plain": [
       "service_category_2\n",
       "Acute Inpatient                     294\n",
       "Durable Medical Equipment          6303\n",
       "Emergency Department                282\n",
       "Home Health                        4225\n",
       "Hospice                            2631\n",
       "Office Visit                     951163\n",
       "Outpatient Hospital or Clinic     18760\n",
       "Skilled Nursing                    5174\n",
       "Urgent Care                      175672\n",
       "dtype: int64"
      ]
     },
     "execution_count": 115,
     "metadata": {},
     "output_type": "execute_result"
    }
   ],
   "source": [
    "sql=f'''\n",
    "select * from SANDBOX_FFS.claims_preprocessing._int_combined_professional\n",
    "'''\n",
    "prof = read_sql(sql)\n",
    "print(prof.shape)\n",
    "prof.groupby('service_category_2').size()"
   ]
  },
  {
   "cell_type": "code",
   "execution_count": 117,
   "metadata": {},
   "outputs": [
    {
     "name": "stdout",
     "output_type": "stream",
     "text": [
      "(405864, 3)\n"
     ]
    },
    {
     "data": {
      "text/plain": [
       "service_category_2\n",
       "Home Health                         493\n",
       "Hospice                            1086\n",
       "Outpatient Hospital or Clinic    402653\n",
       "Skilled Nursing                    1632\n",
       "dtype: int64"
      ]
     },
     "execution_count": 117,
     "metadata": {},
     "output_type": "execute_result"
    }
   ],
   "source": [
    "sql=f'''\n",
    "select * from SANDBOX_FFS.claims_preprocessing._int_combined_institutional\n",
    "'''\n",
    "inst = read_sql(sql)\n",
    "print(inst.shape)\n",
    "inst.groupby('service_category_2').size()"
   ]
  },
  {
   "cell_type": "code",
   "execution_count": null,
   "metadata": {},
   "outputs": [],
   "source": [
    "prof['type'] = 'professional'\n",
    "inst['type'] = 'institutional'\n",
    "both = pd.concat([prof,inst],ignore_index=True)\n",
    "both.groupby('type')['service_category_2'].value_counts()"
   ]
  },
  {
   "cell_type": "code",
   "execution_count": null,
   "metadata": {},
   "outputs": [],
   "source": []
  },
  {
   "cell_type": "code",
   "execution_count": null,
   "metadata": {},
   "outputs": [],
   "source": []
  },
  {
   "cell_type": "code",
   "execution_count": null,
   "metadata": {},
   "outputs": [],
   "source": []
  }
 ],
 "metadata": {
  "kernelspec": {
   "display_name": "tuva",
   "language": "python",
   "name": "python3"
  },
  "language_info": {
   "codemirror_mode": {
    "name": "ipython",
    "version": 3
   },
   "file_extension": ".py",
   "mimetype": "text/x-python",
   "name": "python",
   "nbconvert_exporter": "python",
   "pygments_lexer": "ipython3",
   "version": "3.9.13"
  },
  "orig_nbformat": 4
 },
 "nbformat": 4,
 "nbformat_minor": 2
}
